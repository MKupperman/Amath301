{
 "cells": [
  {
   "cell_type": "code",
   "execution_count": 2,
   "metadata": {},
   "outputs": [],
   "source": [
    "import numpy as np"
   ]
  },
  {
   "cell_type": "markdown",
   "metadata": {},
   "source": [
    "### **Lecture 1**\n",
    "\n",
    "* Import numpy \n",
    "* `np.array` and `np.matrix`\n",
    "* `display`\n",
    "* `transpose`\n",
    "* `conjugate`\n",
    "* boolean masking \n",
    "\n"
   ]
  },
  {
   "cell_type": "markdown",
   "metadata": {},
   "source": [
    "### **Python Native Arrays**: \n",
    "* Native data structure that can store references to literally everything. \n",
    "* Warning they are totally not the same thing as numpy array. \n"
   ]
  },
  {
   "cell_type": "code",
   "execution_count": 3,
   "metadata": {},
   "outputs": [
    {
     "name": "stdout",
     "output_type": "stream",
     "text": [
      "[1, 2, 3]\n",
      "[1, 2.9, 'g', [1, 2, 3]]\n",
      "[1, 2, 3, 1, 2.9, 'g', [1, 2, 3]]\n"
     ]
    }
   ],
   "source": [
    "Arr1 = [1, 2, 3]\n",
    "Arr2 = [1, 2.9, \"g\", Arr1]\n",
    "Arr3 = Arr1 + Arr2  # addition is concatenation. \n",
    "print(Arr1)\n",
    "print(Arr2)\n",
    "print(Arr3)\n"
   ]
  },
  {
   "cell_type": "markdown",
   "metadata": {},
   "source": [
    "### **Numpy Array**\n",
    "* They are vectors and matrices, and even tensor, their type is homogeneous. \n",
    "* They are implemented in C. \n",
    "* They can be multi-dimensional array. "
   ]
  },
  {
   "cell_type": "code",
   "execution_count": 4,
   "metadata": {},
   "outputs": [
    {
     "name": "stdout",
     "output_type": "stream",
     "text": [
      "[1 2 3]\n",
      "[3 4 5]\n",
      "[4 6 8]\n"
     ]
    }
   ],
   "source": [
    "Arr1 = np.array([1, 2, 3])  # 1d numpy array. \n",
    "Arr2 = np.array([3, 4, 5])\n",
    "Arr3 = Arr1 + Arr2  # adding is element wise. \n",
    "print(Arr1)\n",
    "print(Arr2)\n",
    "print(Arr3)"
   ]
  },
  {
   "cell_type": "code",
   "execution_count": 5,
   "metadata": {},
   "outputs": [
    {
     "name": "stdout",
     "output_type": "stream",
     "text": [
      "[[1 2 3]]\n",
      "[[1 2 3]]\n",
      "The size is: (1, 3)\n"
     ]
    }
   ],
   "source": [
    "M = np.matrix([1, 2, 3])\n",
    "print(M)                        # observe it's a nested array. \n",
    "M2 = np.array([[1, 2, 3]])\n",
    "print(M2)\n",
    "print(f\"The size is: {M2.shape}\")  # String interpolations in python 3.6+ \n"
   ]
  },
  {
   "cell_type": "markdown",
   "metadata": {},
   "source": [
    "### **Matrix Vector Multiplications**\n",
    "* Multiplying a matrix by a vector from the right side. \n",
    "* `*` is the wrong operator to do it, it's the elementwise operator. "
   ]
  },
  {
   "cell_type": "code",
   "execution_count": 6,
   "metadata": {},
   "outputs": [
    {
     "data": {
      "text/plain": [
       "array([[1],\n",
       "       [3],\n",
       "       [6]])"
      ]
     },
     "metadata": {},
     "output_type": "display_data"
    },
    {
     "data": {
      "text/plain": [
       "array([[1],\n",
       "       [3],\n",
       "       [6]])"
      ]
     },
     "metadata": {},
     "output_type": "display_data"
    },
    {
     "data": {
      "text/plain": [
       "array([[1, 2, 3],\n",
       "       [0, 0, 0],\n",
       "       [0, 0, 0]])"
      ]
     },
     "metadata": {},
     "output_type": "display_data"
    }
   ],
   "source": [
    "A3By3Matrix = np.array([[1, 2, 3], \n",
    "                        [3, 4, 5], \n",
    "                        [6, 7, 7]])\n",
    "AcolumnVec = np.array([[1], \n",
    "                       [0], \n",
    "                       [0]])\n",
    "display(A3By3Matrix @ AcolumnVec)\n",
    "display(np.dot(A3By3Matrix, AcolumnVec)) # recommend\n",
    "display(A3By3Matrix*AcolumnVec)"
   ]
  },
  {
   "cell_type": "code",
   "execution_count": 7,
   "metadata": {},
   "outputs": [],
   "source": [
    "### Warning, Don't use the matrix class as it's been deprecated for usage in numpy. \n",
    "# A3By3Matrix = np.matrix([[1, 2, 3], \n",
    "#                         [3, 4, 5], \n",
    "#                         [6, 7, 7]])\n",
    "# AcolumnVec = np.matrix([[1], \n",
    "#                        [0], \n",
    "#                        [0]])\n",
    "# display(A3By3Matrix @ AcolumnVec)\n",
    "# display(np.dot(A3By3Matrix, AcolumnVec))\n",
    "# display(A3By3Matrix*AcolumnVec)"
   ]
  },
  {
   "cell_type": "markdown",
   "metadata": {},
   "source": [
    "### **Array Reshape**\n",
    "* You can change the shape of the array while keeping elements the same\n",
    "* Transposing is shapeshiting\n"
   ]
  },
  {
   "cell_type": "code",
   "execution_count": 17,
   "metadata": {},
   "outputs": [
    {
     "data": {
      "text/plain": [
       "array([[0.64243063, 0.75565054, 0.89255057, 0.3092381 ],\n",
       "       [0.11507609, 0.59442271, 0.31436872, 0.91006157],\n",
       "       [0.77537834, 0.42011335, 0.6501219 , 0.40163309]])"
      ]
     },
     "metadata": {},
     "output_type": "display_data"
    },
    {
     "data": {
      "text/plain": [
       "array([0.64243063, 0.75565054, 0.89255057, 0.3092381 , 0.11507609,\n",
       "       0.59442271, 0.31436872, 0.91006157, 0.77537834, 0.42011335,\n",
       "       0.6501219 , 0.40163309])"
      ]
     },
     "metadata": {},
     "output_type": "display_data"
    },
    {
     "data": {
      "text/plain": [
       "(12,)"
      ]
     },
     "metadata": {},
     "output_type": "display_data"
    },
    {
     "data": {
      "text/plain": [
       "array([[0.64243063, 0.75565054, 0.89255057],\n",
       "       [0.3092381 , 0.11507609, 0.59442271],\n",
       "       [0.31436872, 0.91006157, 0.77537834],\n",
       "       [0.42011335, 0.6501219 , 0.40163309]])"
      ]
     },
     "metadata": {},
     "output_type": "display_data"
    },
    {
     "data": {
      "text/plain": [
       "(4, 3)"
      ]
     },
     "metadata": {},
     "output_type": "display_data"
    },
    {
     "name": "stdout",
     "output_type": "stream",
     "text": [
      "(12, 1, 1)\n"
     ]
    }
   ],
   "source": [
    "Arr1 = np.random.rand(3, 4)\n",
    "display(Arr1)\n",
    "Arr1 = Arr1.reshape(-1)\n",
    "display(Arr1); display(Arr1.shape)\n",
    "Arr1 = Arr1.reshape(4, 3)\n",
    "display(Arr1); display(Arr1.shape)\n",
    "Arr1 = Arr1.reshape(12, 1, 1)\n",
    "print(Arr1.shape)"
   ]
  },
  {
   "cell_type": "code",
   "execution_count": 9,
   "metadata": {},
   "outputs": [
    {
     "data": {
      "text/plain": [
       "array([[0.02406516, 0.36122417],\n",
       "       [0.91043403, 0.46928237],\n",
       "       [0.31896376, 0.48930815],\n",
       "       [0.49119974, 0.87595693],\n",
       "       [0.04038996, 0.09883412],\n",
       "       [0.48895355, 0.04836949]])"
      ]
     },
     "metadata": {},
     "output_type": "display_data"
    },
    {
     "data": {
      "text/plain": [
       "(6, 2)"
      ]
     },
     "metadata": {},
     "output_type": "display_data"
    }
   ],
   "source": [
    "Arr1 = Arr1.reshape(-1, 2)\n",
    "display(Arr1); display(Arr1.shape)"
   ]
  },
  {
   "cell_type": "code",
   "execution_count": 10,
   "metadata": {},
   "outputs": [
    {
     "data": {
      "text/plain": [
       "array([[0.02406516, 0.91043403, 0.31896376, 0.49119974, 0.04038996,\n",
       "        0.48895355],\n",
       "       [0.36122417, 0.46928237, 0.48930815, 0.87595693, 0.09883412,\n",
       "        0.04836949]])"
      ]
     },
     "metadata": {},
     "output_type": "display_data"
    },
    {
     "data": {
      "text/plain": [
       "(2, 6)"
      ]
     },
     "metadata": {},
     "output_type": "display_data"
    }
   ],
   "source": [
    "Arr1 = Arr1.T\n",
    "display(Arr1); display(Arr1.shape)"
   ]
  },
  {
   "cell_type": "markdown",
   "metadata": {},
   "source": [
    "### **Indexing**\n",
    "\n",
    "#### Warning: **Python takes this to a whole new level and it's very complicated**: [here](https://numpy.org/doc/stable/reference/arrays.indexing.html) are more information. \n",
    "\n",
    "* Boolean array indexing and array filtering. "
   ]
  },
  {
   "cell_type": "code",
   "execution_count": 11,
   "metadata": {},
   "outputs": [
    {
     "name": "stdout",
     "output_type": "stream",
     "text": [
      "[[0.99817317 0.18299498 0.36117398 0.57509361 0.41336975 0.85804006\n",
      "  0.37588714 0.40357103 0.43505415 0.39914376]]\n",
      "[[ True False False  True False  True False False False False]]\n",
      "[0.99817317 0.57509361 0.85804006]\n"
     ]
    }
   ],
   "source": [
    "Arr1 = np.random.rand(1, 10)\n",
    "print(Arr1)\n",
    "BoolMask = Arr1 > 0.5\n",
    "print(BoolMask)\n",
    "print(Arr1[BoolMask]) # Observe that the shape has changed back into a 1d array. "
   ]
  },
  {
   "cell_type": "markdown",
   "metadata": {},
   "source": [
    "### **Scientific Floating Points**\n",
    "* Scientific Floating points \n",
    "* Other special values"
   ]
  },
  {
   "cell_type": "code",
   "execution_count": 12,
   "metadata": {},
   "outputs": [
    {
     "name": "stdout",
     "output_type": "stream",
     "text": [
      "0.0001\n",
      "inf\n",
      "nan\n"
     ]
    }
   ],
   "source": [
    "# Scientific Floating points\n",
    "print(1e-4) \n",
    "print(float(\"inf\"))\n",
    "print(float(\"nan\"))\n"
   ]
  },
  {
   "cell_type": "markdown",
   "metadata": {},
   "source": [
    "### **Types and dtypes**\n",
    "* Array, numpy has a name that refers to their types in python, use the `type` function to query the type. \n",
    "* Sometimes, they might cause trouble when we try to convert them. \n",
    "* "
   ]
  },
  {
   "cell_type": "code",
   "execution_count": 18,
   "metadata": {},
   "outputs": [
    {
     "name": "stdout",
     "output_type": "stream",
     "text": [
      "int32\n"
     ]
    }
   ],
   "source": [
    "Arr1 = np.array([2, 2, 2])\n",
    "type(Arr1)\n",
    "print(Arr1.dtype)"
   ]
  },
  {
   "cell_type": "code",
   "execution_count": 14,
   "metadata": {},
   "outputs": [
    {
     "name": "stdout",
     "output_type": "stream",
     "text": [
      "[0 0 0]\n",
      "[8.58993459e+09 8.58993459e+09 8.58993459e+09]\n"
     ]
    },
    {
     "ename": "ValueError",
     "evalue": "Integers to negative integer powers are not allowed.",
     "output_type": "error",
     "traceback": [
      "\u001b[1;31m---------------------------------------------------------------------------\u001b[0m",
      "\u001b[1;31mValueError\u001b[0m                                Traceback (most recent call last)",
      "\u001b[1;32m<ipython-input-14-ed54f9b1c07c>\u001b[0m in \u001b[0;36m<module>\u001b[1;34m\u001b[0m\n\u001b[0;32m      1\u001b[0m \u001b[0mprint\u001b[0m\u001b[1;33m(\u001b[0m\u001b[0mArr1\u001b[0m\u001b[1;33m**\u001b[0m\u001b[1;36m33\u001b[0m\u001b[1;33m)\u001b[0m  \u001b[1;31m# no conversion and integer overflow.\u001b[0m\u001b[1;33m\u001b[0m\u001b[1;33m\u001b[0m\u001b[0m\n\u001b[0;32m      2\u001b[0m \u001b[0mprint\u001b[0m\u001b[1;33m(\u001b[0m\u001b[0mArr1\u001b[0m\u001b[1;33m**\u001b[0m\u001b[1;36m33.0\u001b[0m\u001b[1;33m)\u001b[0m \u001b[1;31m# conversion\u001b[0m\u001b[1;33m\u001b[0m\u001b[1;33m\u001b[0m\u001b[0m\n\u001b[1;32m----> 3\u001b[1;33m \u001b[0mprint\u001b[0m\u001b[1;33m(\u001b[0m\u001b[0mArr1\u001b[0m\u001b[1;33m**\u001b[0m\u001b[1;33m(\u001b[0m\u001b[1;33m-\u001b[0m\u001b[1;36m3\u001b[0m\u001b[1;33m)\u001b[0m\u001b[1;33m)\u001b[0m \u001b[1;31m# error\u001b[0m\u001b[1;33m\u001b[0m\u001b[1;33m\u001b[0m\u001b[0m\n\u001b[0m",
      "\u001b[1;31mValueError\u001b[0m: Integers to negative integer powers are not allowed."
     ]
    }
   ],
   "source": [
    "print(Arr1**33)  # no conversion and integer overflow. \n",
    "print(Arr1**33.0) # conversion\n",
    "print(Arr1**(-3)) # error"
   ]
  },
  {
   "cell_type": "markdown",
   "metadata": {},
   "source": [
    "### **Bisection Method**\n",
    "* The function is continous, and crosses the x-axis\n",
    "* It keeps the sign on the left and right boundary different, this is the algorithm invariant. "
   ]
  },
  {
   "cell_type": "code",
   "execution_count": null,
   "metadata": {},
   "outputs": [
    {
     "name": "stdout",
     "output_type": "stream",
     "text": [
      "-1.0\n",
      "1.0\n"
     ]
    },
    {
     "data": {
      "text/plain": [
       "-3.0964111328124995"
      ]
     },
     "metadata": {},
     "output_type": "display_data"
    }
   ],
   "source": [
    "xr = -2.8  # left boundary with \n",
    "xl = -4    # right boundary\n",
    "# f(xr) f(xl) share different signs\n",
    "print(np.sign(np.exp(xr) - np.tan(xr)))\n",
    "print(np.sign(np.exp(xl) - np.tan(xl)))\n",
    "\n",
    "for j in range(0, 100):\n",
    "    xc = (xr + xl)/2             # find middle\n",
    "    fc = np.exp(xc) - np.tan(xc) # comput function value at the middle point. \n",
    "    if (fc > 0):                 # if it's positive (mathcing the right boundary), make it the new left boudary  o. \n",
    "        xl = xc\n",
    "    else:                        # make the middle the new right boundary. \n",
    "        xr = xc\n",
    "    if ( abs(fc) < 1e-5 ):       # if the value of the middle point is close enough to zero. \n",
    "        display(xc)\n",
    "        break"
   ]
  },
  {
   "cell_type": "markdown",
   "metadata": {},
   "source": [
    "### **The Newton's Rasphason Method**\n",
    "\n",
    "$$\n",
    "x_{k + 1} = x_{k} - \\frac{f(x_k)}{f'(x_k)}\n",
    "$$\n",
    "\n",
    "Preconditions: \n",
    "\n",
    "* The functioon's derivative is continuous. \n",
    "* The initial guess doesn't give a point that has zero deriative. \n"
   ]
  },
  {
   "cell_type": "code",
   "execution_count": null,
   "metadata": {},
   "outputs": [],
   "source": [
    "x = np.array([-4])  # initial guess\n",
    "\n",
    "for j in range(1000):\n",
    "    x = np.append(\n",
    "        x, x[j] - (np.exp(x[j]) - np.tan(x[j])) / (np.exp(x[j]) - 1 / np.cos(x[j]) ** 2)\n",
    "    )\n",
    "    fc = np.exp(x[j + 1]) - np.tan(x[j + 1])\n",
    "\n",
    "    if abs(fc) < 1e-5:\n",
    "        break\n",
    "\n",
    "print(x[j + 1])\n",
    "print(fc)\n",
    "\n",
    "\n",
    "# (2) Pre-allocating the space (should run faster, but you end up wasting some space)\n",
    "x = np.empty(1001)\n",
    "x[0] = -4 \n",
    "\n",
    "for j in range(1000):\n",
    "    x[j + 1] = x[j] - (np.exp(x[j]) - np.tan(x[j])) / (\n",
    "        np.exp(x[j]) - 1 / np.cos(x[j]) ** 2\n",
    "    )\n",
    "    fc = np.exp(x[j + 1]) - np.tan(x[j + 1])\n",
    "\n",
    "    if abs(fc) < 1e-5:\n",
    "        break\n",
    "\n",
    "print(x[j + 1])\n",
    "print(fc)\n",
    "\n",
    "\n"
   ]
  }
 ],
 "metadata": {
  "interpreter": {
   "hash": "215956e4b4668669a8b8858f1727617b59431327e1577833621c6b2dfef7bf8e"
  },
  "kernelspec": {
   "display_name": "Python 3.7.7 64-bit ('ml_optimization': conda)",
   "name": "python3"
  },
  "language_info": {
   "codemirror_mode": {
    "name": "ipython",
    "version": 3
   },
   "file_extension": ".py",
   "mimetype": "text/x-python",
   "name": "python",
   "nbconvert_exporter": "python",
   "pygments_lexer": "ipython3",
   "version": "3.7.7"
  },
  "orig_nbformat": 4
 },
 "nbformat": 4,
 "nbformat_minor": 2
}
