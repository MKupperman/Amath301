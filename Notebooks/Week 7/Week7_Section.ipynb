{
 "cells": [
  {
   "cell_type": "markdown",
   "metadata": {},
   "source": [
    "### **Table of Content**\n",
    "\n",
    "* Differential Equations\n",
    "* Cononical Form\n",
    "* Solvers and stuff\n",
    "* Examples and code (Important)\n"
   ]
  },
  {
   "cell_type": "markdown",
   "metadata": {},
   "source": [
    "#### **Differential Equations**\n",
    "\n",
    "An equation that related the derivative of the function with the parameters of the function and the function value itself. For example: \n",
    "\n",
    "$$\n",
    "\\begin{aligned}\n",
    "    \\frac{df}{dx} &= f  &\\text{Exponential}\n",
    "    \\\\\n",
    "    \\frac{df}{dx} &= rf(1 - f/N) & \\text{Logistic}\n",
    "\\end{aligned}\n",
    "$$\n",
    "\n",
    "For they can be a system of equations, for example the [Lotka Volterra](https://en.wikipedia.org/wiki/Lotka%E2%80%93Volterra_equations) System: \n",
    "\n",
    "$$\n",
    "\\begin{cases}\n",
    "    \\frac{dx}{dt} &= \\alpha x - \\beta xy\n",
    "    \\\\\n",
    "    \\frac{dy}{dt} &= \\delta xy - \\gamma y\n",
    "\\end{cases}\n",
    "$$\n",
    "\n",
    "Where $x,y$ models the populations of the predators and the prays. \n",
    "\n",
    "\n",
    "In class, we see another example of first order system of equations, the Lorenz Equation, under certain parameters, which is here: \n",
    "\n",
    "$$\n",
    "\\begin{cases}\n",
    "    \\frac{dx}{dt} &= \\sigma(y - x)\\\\\n",
    "    \\frac{dy}{dt} &= x(\\rho - z) - y\\\\\n",
    "    \\frac{dz}{dt} &= xy - \\beta z\n",
    "\\end{cases}\n",
    "$$\n",
    "The parameter we had in class was: `beta=8/3; sigma=10; rho=28`; where professor might have used different symbols for the parameters. \n",
    "\n",
    "However, another **important** thing is that, given any higher order system of equation, we can transform it into **cononical form**. The cononical form refers to this form: s\n",
    "\n",
    "$$\n",
    "\\begin{aligned}\n",
    "    \\frac{df}{dt} &= g(f, t)\\\\ \n",
    "    x &\\in \\mathbb{R}^n\\\\\n",
    "    \\frac{df}{dt} &: \\mathbb{R} \\mapsto \\mathbb{R^n}\\\\\n",
    "    g(x ,t)&: \\mathbb{R^n}\\times \\mathbb{R} \\mapsto \\mathbb{R^n}\n",
    "\\end{aligned}\n",
    "$$\n",
    "\n",
    "I can expand that: \n",
    "$$\n",
    "\\begin{bmatrix}\n",
    "    \\frac{df_1}{dt}\n",
    "    \\\\\n",
    "    \\frac{df_2}{dt}\n",
    "    \\\\\n",
    "    \\vdots \n",
    "    \\\\\n",
    "    \\frac{df_n}{dt}\n",
    "\\end{bmatrix} = \n",
    "\\begin{bmatrix}\n",
    "    g_1(t, f_1, f_2, \\cdots, f_n)\n",
    "    \\\\\n",
    "    g_2(t, f_1, f_2, \\cdots, f_n)\n",
    "    \\\\\n",
    "    \\vdots\n",
    "    \\\\\n",
    "    g_n(t, f_1, f_2, \\cdots, f_n)\n",
    "\\end{bmatrix}\n",
    "$$\n",
    "\n",
    "The derivative for each component of the vector function that depends on time, is related to the time variable, and the output value of that function itself. \n",
    "\n",
    "Finaly, the example we did in class about the pendulum is: \n",
    "\n",
    "$$\n",
    "\\begin{aligned}\n",
    "    \\frac{d^2\\theta}{dt^2} &= mgL\\sin(\\theta)\n",
    "    \\\\\n",
    "    \\frac{d^2\\theta}{dt^2} &= -c\\sin(\\theta)\n",
    "    \\\\\n",
    "    \\begin{bmatrix}\n",
    "        \\theta \n",
    "        \\\\\n",
    "        \\theta' \n",
    "    \\end{bmatrix}\n",
    "    &= \n",
    "    \\begin{bmatrix}\n",
    "        w_1 \\\\ w_2\n",
    "    \\end{bmatrix}\n",
    "    \\\\\n",
    "    \\implies \\begin{bmatrix}\n",
    "        \\theta' \\\\ \\theta'' \n",
    "    \\end{bmatrix} &= \\begin{bmatrix}\n",
    "        w_1' \\\\ w_2'\n",
    "    \\end{bmatrix}\n",
    "    \\\\\n",
    "    \\implies \\begin{bmatrix}\n",
    "        \\theta' \\\\ \\theta'' \n",
    "    \\end{bmatrix} &= \n",
    "    \\begin{bmatrix}\n",
    "        w_2 \\\\ -c \\sin(w_1)\n",
    "    \\end{bmatrix}\n",
    "\\end{aligned}\n",
    "$$\n",
    "\n",
    "It's now in the cannonical form.\n",
    "\n",
    "\n",
    "\n"
   ]
  },
  {
   "cell_type": "markdown",
   "metadata": {},
   "source": [
    "Consider $y' = f(t, y)$\n",
    "\n",
    "Euler's Method: \n",
    "\n",
    "$$y_{n+1} = y_n + f(t_n, y_n)(t_{n+1} - t_n)$$\n",
    "\n",
    "\n",
    "where $y$ is $y(t)$, a function of time, and $y_n = y(t_n)$, the value of the function at time step $t_n$. \n",
    "\n",
    "Backward Euler's Method: \n",
    "\n",
    "$$\n",
    "y_n = y_{n - 1} + \\Delta tf(t_{n}, y_n)\n",
    "$$\n",
    "\n",
    "Oh no it's an equation of $y_n$, to get the next step we need to solve the equation which is kinda bad. But it will be stable for a larger range of $\\delta t$ for simulations. \n"
   ]
  },
  {
   "cell_type": "markdown",
   "metadata": {},
   "source": [
    "### **Solvers and Stuff**\n",
    "\n",
    "There are many, **many** different solvers, each of them target different type of equations and adapts to different properties, so if we were to into that details this will be a biology class. Let's take a look at the cononical solver `ode45`. It's implementing the **Runge Kutta Scheme**. \n",
    "\n",
    "\n",
    "suppose that the system we were given is in the form of $x' = f(x, t)$, then the Runge Kutta is summarized as: \n",
    "\n",
    "$x_{k+1} = x_{k} + \\frac{\\Delta t}{6}\\left(f_1 + 2f_2 + 2f_3 + f_4\\right)$, \n",
    "\n",
    "where\n",
    "\n",
    "$f_1 = f(t_k, x_k)$, \n",
    "\n",
    "$f_2 = f\\left(t_k + \\frac{\\Delta t}{2}, x_k + \\frac{\\Delta t}{2}f_1\\right)$, \n",
    "\n",
    "$f_3 = f\\left(t_k + \\frac{\\Delta t}{2}, x_k + \\frac{\\Delta t}{2}f_2\\right)$, \n",
    "\n",
    "and \n",
    "\n",
    "$f_4 = f\\left(t_k + \\Delta t, x_k + \\Delta t f_3\\right)$.\n",
    "\n",
    "This is just stepping $\\delta t$  into the future. But this method has a local error of $\\mathcal{O}(\\Delta t^5)$, and globally it has an error of $\\mathcal{O}(\\Delta t^4)$. The local error is the error we made at each tiem step, and the global error is the error we made for the whole sequence of time steps. \n",
    "\n",
    "Suppose that the solution of the system is denoted as $\\hat{x}_{n}$, then local error is measure by the average of $\\Vert x_{n} - \\hat{x}_{n}\\Vert$ for all the steps. And the global error will be measure by $\\Vert x_{N} - \\hat{x}_N \\Vert$, the error of the last step. \n",
    "\n",
    "So, here, I will cite the book from Professor Kutz, on page 59, he listed all the errors for some of the common methods: \n",
    "\n",
    "\\begin{array}{lcc}\n",
    "\\hline \\hline \\text { scheme } & \\text { local error } \\epsilon_{k} & \\text { global error } E_{k} \\\\\n",
    "\\hline \\hline \\text { Euler } & O\\left(\\Delta t^{2}\\right) & O(\\Delta t) \\\\\n",
    "2 \\text { nd order Runge-Kutta } & O\\left(\\Delta t^{3}\\right) & O\\left(\\Delta t^{2}\\right) \\\\\n",
    "4 \\text { th order Runge-Kutta } & O\\left(\\Delta t^{5}\\right) & O\\left(\\Delta t^{4}\\right) \\\\\n",
    "2 \\text { nd order Adams-Bashforth } & O\\left(\\Delta t^{3}\\right) & O\\left(\\Delta t^{2}\\right) \\\\\n",
    "\\hline \\hline\n",
    "\\end{array}\n",
    "\n",
    "Finally, the method `ode45` implemented in matlab is way smarter, under the hood it's using several scheme all together while stepping forward, the difference between different order of scheme tells it the error, and based on that, it dynamically re-adjust the step size to produce results that are grarantee to be bounded by some absolute/relative error defined by the users. \n",
    "\n",
    "**This is good for some system, but very bad for others, stiff system kills this algorithm.**\n",
    "\n",
    "In the case of stiff system, consider stiff solver in matlab, one of the good one is: `ode15s`\n",
    "\n",
    "A stiff system is a system where, the derivative of the solution is changing very rapidly. "
   ]
  },
  {
   "cell_type": "markdown",
   "metadata": {},
   "source": [
    "### **How to Use it**...? \n",
    "| language |Method | Description|\n",
    "|----------|-------|------------|\n",
    "|Python    |[scipy.integerate.odeint](https://docs.scipy.org/doc/scipy/reference/generated/scipy.integrate.odeint.html) |Takes in: (the RHS of your differential equation, Initial conditions, Time series), and returns the states of the system pack into each row of a matrix. |\n",
    "|Malab|[`ode45`](https://www.mathworks.com/help/matlab/ref/ode45.html)|Takes in (the RHS of your differential, time series, initial conditions), returns [t, Y], where t is the time series for the system, and Y is the states of the system packed into the rows of a matrix. |\n",
    "|python| [scipy.integrate.solve_ivp](https://docs.scipy.org/doc/scipy/reference/generated/scipy.integrate.solve_ivp.html)| Takes in: (fun, tspan, y0, tval=None), and it returns an object, containing a lot of information, I would print it out and see what the fields are representing. |\n",
    "\n",
    "Ok, take notice that, I am passing in a **FUNCTION** into another **FUNCTION**, this is valid math and valid Functional Programming in computer science. \n",
    "\n",
    "Let's get clear about the basics. \n",
    "\n",
    "When you take derivative, you are passing in a function to the differential operators and the point you want to get the derivative off, and it returns the value of derivative at that point. \n",
    "\n",
    "In Computer Programming, a higher order function takes in another function as a parameters and manipulates it. I used one simple example to take the integral using trapzoid rule last week. And this week, we see that scipy is giving us an higher order function as an API method. \n",
    "\n",
    "What is \n",
    "\n",
    "Lambda Expression (python), Anonymous Function (Matlab), are function that can be passed like a value. Normal function can only be refers to, but passing it can't be used for Higher Order function that returns a function instead of a value. \n",
    "\n",
    "I am just skipping the surface here, functional programming as a programming paradigm in computer science is a big topic.\n",
    "\n",
    "Let's take a look at the example: "
   ]
  },
  {
   "cell_type": "code",
   "execution_count": 1,
   "metadata": {},
   "outputs": [
    {
     "name": "stdout",
     "output_type": "stream",
     "text": [
      "8\n",
      "16\n",
      "8\n",
      "16\n"
     ]
    }
   ],
   "source": [
    "def Compose(f:callable, g:callable, x):\n",
    "    return f(g(x))  # evaluate the composition of the functions at x\n",
    "\n",
    "def Composition(f:callable, g:callable):\n",
    "    return lambda x: f(g(x))  # returns the composition as a function \n",
    "\n",
    "f = lambda x: 2*x\n",
    "g = lambda x: x**2\n",
    "\n",
    "# f(g(x)) = 2*(x**2)\n",
    "# g(f(x)) = (2*x)**2\n",
    "print(Compose(f, g, 2))  # should be 8 because 2*(2**2)\n",
    "print(Compose(g, f, 2))  # should be 16\n",
    "fg = Composition(f, g)\n",
    "gf = Composition(g, f)  # gets back a function. \n",
    "print(fg(2))\n",
    "print(gf(2))\n",
    "\n"
   ]
  },
  {
   "cell_type": "markdown",
   "metadata": {},
   "source": [
    "### **Lotka Volterra** (Example)\n",
    "\n",
    "$$  \n",
    "\\begin{cases}\n",
    "    \\frac{dx}{dt} &= \\alpha x - \\beta xy\n",
    "    \\\\\n",
    "    \\frac{dy}{dt} &= \\delta xy - \\gamma y\n",
    "\\end{cases}\n",
    "$$\n",
    "\n",
    "$x$ is the population of prays, and $y$ is the populations of predators. This model will have closed trajectories on the strictly positive quadrant of the 2d plane. \n",
    "\n",
    "Let $\\alpha = \\frac{2}{3}, \\beta = \\frac{4}{3}, \\gamma=\\delta=1$: \n",
    "\n",
    "$$\n",
    "\\begin{cases}\n",
    "    \\frac{dx}{dt} &= \\frac{2}{3} x - \\frac{4}{3} xy\n",
    "    \\\\\n",
    "    \\frac{dy}{dt} &=  xy - y\n",
    "\\end{cases}\n",
    "$$\n",
    "\n",
    "Initial Conditions is $(0.9, 1.8)$. We wish to simulate it from $t = 0$ to $t = 30$. \n",
    "\n",
    "When using it, we need to pass in a function, representing the RHS of the equation, which takes in input of `(states, t)`, which is the differential systems's outputs at that time moment. "
   ]
  },
  {
   "cell_type": "code",
   "execution_count": 2,
   "metadata": {},
   "outputs": [
    {
     "name": "stdout",
     "output_type": "stream",
     "text": [
      "[[0.9        0.8845456  0.86938065 ... 0.18278336 0.18317791 0.18357982]\n",
      " [1.8        1.7980615  1.79585013 ... 0.33981063 0.3370456  0.33430441]]\n"
     ]
    },
    {
     "data": {
      "text/plain": [
       "<matplotlib.legend.Legend at 0x182301e7dc8>"
      ]
     },
     "execution_count": 2,
     "metadata": {},
     "output_type": "execute_result"
    },
    {
     "data": {
      "image/png": "[encoded data removed]",
      "text/plain": [
       "<Figure size 432x288 with 1 Axes>"
      ]
     },
     "metadata": {
      "needs_background": "light"
     },
     "output_type": "display_data"
    }
   ],
   "source": [
    "import numpy as np\n",
    "import matplotlib.pyplot as plt\n",
    "from scipy import integrate\n",
    "# from scipy.integrate import solve_ivp\n",
    "\n",
    "\n"
   ]
  },
  {
   "cell_type": "code",
   "execution_count": 3,
   "metadata": {},
   "outputs": [
    {
     "data": {
      "text/plain": [
       "Text(0, 0.5, 'Predactor')"
      ]
     },
     "execution_count": 3,
     "metadata": {},
     "output_type": "execute_result"
    },
    {
     "data": {
      "image/png": "[encoded data removed]",
      "text/plain": [
       "<Figure size 432x288 with 1 Axes>"
      ]
     },
     "metadata": {
      "needs_background": "light"
     },
     "output_type": "display_data"
    }
   ],
   "source": [
    "\n"
   ]
  },
  {
   "cell_type": "markdown",
   "metadata": {},
   "source": [
    "### **Time Dependent Events Based Lotka Volterra** \n",
    "\n",
    "Suppose that somebody killed predator at some point in time, what is going to happen to the system? \n"
   ]
  },
  {
   "cell_type": "markdown",
   "metadata": {},
   "source": []
  },
  {
   "cell_type": "markdown",
   "metadata": {},
   "source": []
  }
 ],
 "metadata": {
  "interpreter": {
   "hash": "215956e4b4668669a8b8858f1727617b59431327e1577833621c6b2dfef7bf8e"
  },
  "kernelspec": {
   "display_name": "Python 3.7.7 64-bit ('ml_optimization': conda)",
   "language": "python",
   "name": "python3"
  },
  "language_info": {
   "codemirror_mode": {
    "name": "ipython",
    "version": 3
   },
   "file_extension": ".py",
   "mimetype": "text/x-python",
   "name": "python",
   "nbconvert_exporter": "python",
   "pygments_lexer": "ipython3",
   "version": "3.7.7"
  },
  "orig_nbformat": 4
 },
 "nbformat": 4,
 "nbformat_minor": 2
}
