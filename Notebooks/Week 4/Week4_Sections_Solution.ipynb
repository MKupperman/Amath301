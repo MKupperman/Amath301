{
 "cells": [
  {
   "cell_type": "markdown",
   "metadata": {},
   "source": [
    "### **Table of Content**\n",
    "\n",
    "**Anouncement**: \n",
    "\n",
    "* Join Piazza and get this notes. \n",
    "* Remember to study HW 1, 2 for exams. Both the concepts and the code involved. \n",
    "* Any questions on HW2? \n",
    "\n",
    "**This Section **\n",
    "* Short Excercises about programming in general. \n",
    "  * Fibonacci Numbers with Forloops \n",
    "  * Fibonacci Numbers with Forloops and Arrays. \n",
    "* Excercises Iterative Methods and SVD solving of equations. \n",
    "* HW3 Guide"
   ]
  },
  {
   "cell_type": "code",
   "execution_count": 1,
   "metadata": {},
   "outputs": [],
   "source": [
    "import numpy as np\n",
    "import scipy.linalg"
   ]
  },
  {
   "cell_type": "markdown",
   "metadata": {},
   "source": [
    "### **Exercise 1: Forloops Fibonacci Number**\n",
    "\n",
    "The Fibonacci Number is a sequence of numbers starting with 1 as the first 2 terms, and the sequences satisfies: \n",
    "\n",
    "$$\n",
    "\\begin{cases}\n",
    "    a_{n + 2} &= a_{n + 1} + a_n \n",
    "    \\\\\n",
    "    a_{1} = a_0 &= 1 & \n",
    "\\end{cases}\n",
    "$$\n",
    "\n",
    "**Objective**: \n",
    "\n",
    "Write a function that accepts an integer, assuming it's non-negative, it returns $a_n$. For example: \n",
    "\n",
    "```python\n",
    "FibboTermAt(0)\n",
    "1\n",
    "FibboTermAt(1)\n",
    "1\n",
    "FibboTermAt(4)\n",
    "5\n",
    "```\n",
    "\n",
    "**Question**: \n",
    "\n",
    "How would you write the code inside the function to build up the sequence? How many iterations should there be? What if the input has $0\\le N \\le1$? \n",
    "\n",
    "<details>\n",
    "\n",
    "<summary>Hints</summary>\n",
    "\n",
    "* Use 3 variables to keep track of the sequence, where 2 variables are keeping track of the sequence. \n",
    "\n",
    "</details>\n",
    "\n"
   ]
  },
  {
   "cell_type": "code",
   "execution_count": 2,
   "metadata": {},
   "outputs": [],
   "source": [
    "def FibboTermAt(n):\n",
    "    PreviousTerm = 1\n",
    "    PreviousPreviousTerm = 1\n",
    "    if n <= 1:\n",
    "        return PreviousTerm\n",
    "    for _ in range(n - 1): \n",
    "        NextTerm = PreviousTerm + PreviousPreviousTerm\n",
    "        PreviousPreviousTerm = PreviousTerm\n",
    "        PreviousTerm = NextTerm\n",
    "    return NextTerm\n",
    "    "
   ]
  },
  {
   "cell_type": "code",
   "execution_count": 3,
   "metadata": {},
   "outputs": [
    {
     "name": "stdout",
     "output_type": "stream",
     "text": [
      "[1, 1, 2, 3, 5, 8, 13, 21, 34, 55, 89, 144, 233, 377, 610, 987, 1597, 2584, 4181, 6765, 10946]\n"
     ]
    }
   ],
   "source": [
    "Sequence = []\n",
    "for I in range(21): \n",
    "    Sequence.append(FibboTermAt(I))\n",
    "print(Sequence)"
   ]
  },
  {
   "cell_type": "markdown",
   "metadata": {},
   "source": [
    "### **Exercise 2: Forloops Fibonacci Sequence**\n",
    "\n",
    "**Objective**\n",
    "\n",
    "Write a function that accepts an integer, assuming it's non-negative, it returns the first n sequences of Fibbonacci Numbers in an numpy array. \n",
    "\n",
    "**Examples**\n",
    "\n",
    "```\n",
    "\n",
    "FibboSeq(11)\n",
    "[1, 1, 2, 3, 5, 8, 13, 21, 34, 55, 89, 144]\n",
    "\n",
    "```\n",
    "\n",
    "<details>\n",
    "    <summary>Hints</summary>\n",
    "    <ul>\n",
    "        <li>Build an empty array using the input `n`, and put in the first 2 terms</li>\n",
    "        <li>Use the forloops and update the `n+2`'term using the `n+1` and `n` th term</li>\n",
    "    </ul>\n",
    "</details>\n",
    "\n"
   ]
  },
  {
   "cell_type": "code",
   "execution_count": 6,
   "metadata": {},
   "outputs": [],
   "source": [
    "def FibboSeq(n):\n",
    "    if n <= 1:\n",
    "        return 1\n",
    "    FibbNumbers = np.zeros(n, dtype=np.int64)\n",
    "    FibbNumbers[:2] = 1\n",
    "    for II in range(2, n):\n",
    "        FibbNumbers[II] = FibbNumbers[II - 1] + FibbNumbers[II - 2]\n",
    "    \n",
    "    return FibbNumbers\n"
   ]
  },
  {
   "cell_type": "code",
   "execution_count": 7,
   "metadata": {},
   "outputs": [
    {
     "name": "stdout",
     "output_type": "stream",
     "text": [
      "[   1    1    2    3    5    8   13   21   34   55   89  144  233  377\n",
      "  610  987 1597 2584 4181 6765]\n"
     ]
    }
   ],
   "source": [
    "print(FibboSeq(20))"
   ]
  },
  {
   "cell_type": "markdown",
   "metadata": {},
   "source": [
    "### **Exercise 3: Eigenvalues and Fibbonacci Number**\n",
    "\n",
    "We can use Eigenvalue decomposition to improve the speed of computing the nth Fibbonacci Numbers. Observe the following: \n",
    "\n",
    "$$\n",
    "\\begin{bmatrix}\n",
    "    0 & 1\n",
    "    \\\\\n",
    "    1 & 1\n",
    "\\end{bmatrix}\n",
    "\\begin{bmatrix}\n",
    "    a_{n}\\\\a_{n + 1}\n",
    "\\end{bmatrix}\n",
    "= \n",
    "\\begin{bmatrix}\n",
    "    a_{n + 1} \\\\ a_{n + 1} + a_{n}\n",
    "\\end{bmatrix}\n",
    "=\n",
    "\\begin{bmatrix}\n",
    "    a_{n + 1} \\\\ a_{n + 2}\n",
    "\\end{bmatrix}\n",
    "$$\n",
    "\n",
    "For example, n = 5: \n",
    "$$\n",
    "\\begin{bmatrix}\n",
    "    0 & 1\n",
    "    \\\\\n",
    "    1 & 1\n",
    "\\end{bmatrix}\n",
    "\\begin{bmatrix}\n",
    "    5 \\\\8\n",
    "\\end{bmatrix}\n",
    "= \n",
    "\\begin{bmatrix}\n",
    "    8 \\\\ 13\n",
    "\\end{bmatrix}\n",
    "$$\n",
    "\n",
    "If, we started with the number \"8, 13\", we want to compute the next 2 numbers in the sequence, how would we do that with linear algebra in numpy? \n",
    "\n",
    "\n",
    "**Discussion with peers**\n",
    "\n",
    "* What is the matrix that when we multiply the vector `[9; 13]` so that we can get the next 2 terms: `[21; 34]`? \n",
    "\n",
    "<details>\n",
    "\n",
    "<summary>Answer</summary>\n",
    "\n",
    "* Multiply the matrix a second time\n",
    "\n",
    "$$\n",
    "\\begin{bmatrix}\n",
    "    0 & 1\n",
    "    \\\\\n",
    "    1 & 1\n",
    "\\end{bmatrix}^2\n",
    "$$\n",
    "\n",
    "</details>\n"
   ]
  },
  {
   "cell_type": "code",
   "execution_count": 9,
   "metadata": {},
   "outputs": [
    {
     "data": {
      "text/plain": [
       "array([[21],\n",
       "       [34]])"
      ]
     },
     "execution_count": 9,
     "metadata": {},
     "output_type": "execute_result"
    }
   ],
   "source": [
    "v = np.array([8, 13]).reshape(-1, 1)\n",
    "M = np.array([[0, 1], [1, 1]])\n",
    "M@M@v"
   ]
  },
  {
   "cell_type": "markdown",
   "metadata": {},
   "source": [
    "**Prompt:** \n",
    "What is the general patterns here? And how would be make use of the Eigenvalue decomposition for solving this problem (computing the nth fibbonacci number)? Discuss with you peers. \n",
    "\n",
    "**Objective**\n",
    "\n",
    "Fill in the function below, so that when it gets the input `n`, it computes the `n` th term in the fibb sequence just like that first exercise we did. \n",
    "\n",
    "**Helpful Functions Python**\n",
    "\n",
    "|Function |Description|\n",
    "|-----|--------|\n",
    "|[np.linalg.eig](https://numpy.org/doc/stable/reference/generated/numpy.linalg.eig.html)| Compute eigenvalues & eigenvectors of a non-symmetric matrix. |\n",
    "|[np.diag](https://numpy.org/doc/stable/reference/generated/numpy.diag.html)| If the input is a vector of size `n`, then the vector is filled into the diagonal of a zero matrix with size `n x n`, then it returns the matrix. If input is a matrix, then it extracts out the diagonal elements of the matrix and returns it as a vector. |\n",
    "|[np.linalg.solve](https://numpy.org/doc/stable/reference/generated/numpy.linalg.solve.html)| solve a system Ax = b|\n",
    "\n",
    "**Helpful Function Matlab**\n",
    "|Function| Description|\n",
    "|-------|---------|\n",
    "|[eig](https://www.mathworks.com/help/matlab/ref/eig.html)|Returns the eigevalues & eigenvectors of a general matrix. Both as matrices|\n",
    "\n",
    "<details>\n",
    "\n",
    "<summary>Hints</summary>\n",
    "\n",
    "* First, we need to realize that, the repeatedly multiplying the matrix is involved. \n",
    "\n",
    "* Second, we need to remember how to use `np.eig`, `np.solve`, and the values returned to code it up. \n",
    "\n",
    "</details>\n",
    "\n",
    "<details>\n",
    "\n",
    "<summary>Answer</summary>\n",
    "\n",
    "* Observe that, to get from `a_0, a_1` to `a_{n}, a_{n + 1}`, we need to multiply by `n`  times, and assuming that the matrix has eigen decomposition $X\\Lambda X^{-1}$ where $X$ is the matrix whose columns are the eigenvectors, then:\n",
    "\n",
    "$$\n",
    "\\begin{bmatrix}\n",
    "    0 & 1\n",
    "    \\\\\n",
    "    1 & 1\n",
    "\\end{bmatrix}^n = \\underbrace{X\\Lambda X^{-1}X\\Lambda X^{-1} \\dots X\\Lambda X^{-1}}_{\\text{n times}} = X\\Lambda^nX^{-1}\n",
    "$$\n",
    "\n",
    "Then we just raise power on the diagonal matrix and then multiply both side by the the matrix $X$, and inverse of $X$. \n",
    "\n",
    "</details>\n"
   ]
  },
  {
   "cell_type": "code",
   "execution_count": 25,
   "metadata": {},
   "outputs": [],
   "source": [
    "def EigenComputeFibbTo(n):\n",
    "    if n <= 1:\n",
    "        return 1\n",
    "    x0 = np.array([[1], [1]])\n",
    "    M = np.array([[0, 1], [1, 1]])\n",
    "    w, V = np.linalg.eig(M)\n",
    "    W = np.diag(w)\n",
    "    y = V@W**(n - 1)@np.linalg.solve(V, x0)\n",
    "    return y[0, 0]\n"
   ]
  },
  {
   "cell_type": "code",
   "execution_count": 26,
   "metadata": {},
   "outputs": [
    {
     "name": "stdout",
     "output_type": "stream",
     "text": [
      "1\n",
      "1\n",
      "0.9999999999999998\n",
      "1.9999999999999996\n",
      "2.999999999999999\n",
      "4.999999999999999\n",
      "8.0\n",
      "13.0\n",
      "21.0\n",
      "34.00000000000001\n",
      "55.00000000000001\n",
      "89.00000000000001\n",
      "144.0\n",
      "233.00000000000003\n",
      "377.0000000000001\n",
      "610.0000000000001\n",
      "987.0000000000003\n",
      "1597.0000000000005\n",
      "2584.000000000001\n",
      "4181.000000000002\n"
     ]
    }
   ],
   "source": [
    "for II in range(20):\n",
    "    print(EigenComputeFibbTo(II))"
   ]
  },
  {
   "cell_type": "markdown",
   "metadata": {},
   "source": [
    "### **Use SVD to Find Solutions to a Linear System**\n",
    "\n"
   ]
  },
  {
   "cell_type": "markdown",
   "metadata": {},
   "source": [
    "### **SVD Decomposition**\n",
    "\n",
    "**Python Relevant Function**\n",
    "\n",
    "|Python Functon |Description|\n",
    "|-----|-----|\n",
    "|[np.linalg.svd](https://numpy.org/doc/stable/reference/generated/numpy.linalg.svd.html)|returns $U, \\sigma, V^H$, and notice that the singular values are returned as a vector. |\n",
    "|[np.diag](https://numpy.org/doc/stable/reference/generated/numpy.diag.html)| If the input is a vector of size `n`, then the vector is filled into the diagonal of a zero matrix with size `n x n`, then it returns the matrix. If input is a matrix, then it extracts out the diagonal elements of the matrix and returns it as a vector. |\n",
    "\n",
    "**Matlab Relevant Functions**\n",
    "\n",
    "|Matlab Function|Description|\n",
    "|------|-----|\n",
    "|[svd](https://www.mathworks.com/help/matlab/ref/double.svd.html)|Returns $U, \\Sigma, V$, all as matrices. |\n",
    "\n",
    "\n",
    "Suppoes that SVD is performed on $A$, where $A$ is $m\\times n$ The decomposition is: \n",
    "\n",
    "$$\n",
    "A = U\\Sigma V^T\n",
    "$$\n",
    "Where, $U$ could be $m\\times m$ or $m\\times \\min(m, n)$ which shape it takes depends on parameters passed into the function. $\\Sigma$ is a diagonal matrix full of singular values of the matrix $A$, and they are all positive real numbers, $\\Sigma$ can be in shape of $m\\times n$ or $\\min(m, n)\\times \\min(m, n)$, and $V^T$ is a matrix with in the shape of $m\\times n$ or $\\min(m, n)\\times n$. \n",
    "\n",
    "The matrix $U, V$ are called unitary/orthonormal. Their inverse is the transpose conjugate of itself. Then, one can assert that the inverse of matrix $A$ when $A$ happens to be square would be: \n",
    "\n",
    "$$\n",
    "A^{-1} = (U\\Sigma V^T)^{-1} = V(\\Sigma)^{-1}U^T\n",
    "$$\n",
    "\n",
    "Because $\\Sigma$ is diagonal, it's inverse is just taking the reciprical of all the elements in the diagonal of $\\Sigma$. \n",
    "\n",
    "\n",
    "**Exercise**\n",
    "\n",
    "* Implement the method `SolveViaSVD` below, using the $U, \\Sigma, V^T$ matrix from `np.linalg.svd`. Execute the cell and compare the output from both of these solver. \n",
    "* Disscuss, can the matrix be solved using iterative method such as Guass Sediel or Jacobi and WHY? \n",
    "\n",
    "\n"
   ]
  },
  {
   "cell_type": "code",
   "execution_count": 30,
   "metadata": {},
   "outputs": [
    {
     "name": "stdout",
     "output_type": "stream",
     "text": [
      "Solution from iterative method is: \n",
      "[[0.12670668]\n",
      " [0.07008797]\n",
      " [0.06938522]\n",
      " [0.03130241]\n",
      " [0.00555335]\n",
      " [0.04748927]\n",
      " [0.04497768]\n",
      " [0.09084911]\n",
      " [0.08363808]\n",
      " [0.06179282]]\n",
      "Solution from your method is: \n",
      "[[0.12670668]\n",
      " [0.07008797]\n",
      " [0.06938523]\n",
      " [0.03130241]\n",
      " [0.00555335]\n",
      " [0.04748927]\n",
      " [0.04497768]\n",
      " [0.09084911]\n",
      " [0.08363808]\n",
      " [0.06179282]]\n"
     ]
    }
   ],
   "source": [
    "def JacobiIterate(A, b, x_guess=None, tol=1e-8):\n",
    "    \"\"\"\n",
    "        Performs Jacobi iteration on the system Ax = b, until the residual has infnorm less than 1e-10. \n",
    "        (Please take a read on this method after class and understand how iterative methods are implemented in real life)\n",
    "    \"\"\"\n",
    "    x_guess = b if x_guess is None else x_guess\n",
    "    d = np.diag(A)  # d: Vector of diagonal elements of A. \n",
    "    D = np.diag(d)  # D: Gotten by setting all the non-diagonal part of the matrix A to zero. \n",
    "    LpU = A - np.diag(d)  # The non diagonal part of the matrix A. \n",
    "    guesses = [x_guess]  # All the guesses are stored in python native array\n",
    "    while True:\n",
    "        \n",
    "        guesses.append(np.linalg.solve(D, (b - LpU.dot(guesses[-1])))) # Acccumulate the results. \n",
    "        if np.linalg.norm(guesses[-1] - guesses[-2]) < tol:  # Break conditions. \n",
    "            break\n",
    "    return guesses[-1]\n",
    "\n",
    "def SolveViaSVD(M, c):\n",
    "    # your code here, return the inverse of the matrix X using SVD\n",
    "    U, s, Vh = np.linalg.svd(M)\n",
    "    Sinv = np.diag(1/s)\n",
    "    return  Vh.T@Sinv@U.T@c\n",
    "\n",
    "\n",
    "\n",
    "\n",
    "N = 10\n",
    "b = np.random.rand(N, 1)\n",
    "X = np.random.randn(N, N) \n",
    "X += np.diag(np.sum(np.abs(X), axis=1))  # Row sum. \n",
    "print(f\"Solution from iterative method is: \\n{JacobiIterate(X, b)}\")\n",
    "print(f\"Solution from your method is: \\n{SolveViaSVD(X, b)}\")\n",
    "\n",
    "\n",
    "\n"
   ]
  },
  {
   "cell_type": "markdown",
   "metadata": {},
   "source": [
    "### **HW3 Guide and Clarifications**\n",
    "\n",
    "\n",
    "Piazza HW3 Errata Post: [here](https://piazza.com/class/kuflna54rev3ly?cid=83 )\n",
    "\n",
    "* A1: The \"Correlation Matrix\" is meant to be the direct pairwise dot products between each columns from the matrix X, **for the sake of the homework normalization and putting it to zero mean is not needed**. \n",
    "  * In practice, correlation matrix is from the Pearson Correlation Coefficients, which involves dividing the covariance by the product of the standard deviation for all columns of samples. But for this HW, we don't need to do this.\n",
    "* A2, A3: Index starts with one, not zero. Need to translate the indices. \n",
    "* A4: `[1, 313, 512, 5, 2400, 113, 1024, 87, 314, 2005]`, these indeices are one based, to use them in python, please subtract one. When uploading results for the images with maximal correlations, add one to the index of the images (python starts with 0). "
   ]
  },
  {
   "cell_type": "markdown",
   "metadata": {},
   "source": []
  }
 ],
 "metadata": {
  "interpreter": {
   "hash": "215956e4b4668669a8b8858f1727617b59431327e1577833621c6b2dfef7bf8e"
  },
  "kernelspec": {
   "display_name": "Python 3.7.7 64-bit ('ml_optimization': conda)",
   "name": "python3"
  },
  "language_info": {
   "codemirror_mode": {
    "name": "ipython",
    "version": 3
   },
   "file_extension": ".py",
   "mimetype": "text/x-python",
   "name": "python",
   "nbconvert_exporter": "python",
   "pygments_lexer": "ipython3",
   "version": "3.7.7"
  },
  "orig_nbformat": 4
 },
 "nbformat": 4,
 "nbformat_minor": 2
}
