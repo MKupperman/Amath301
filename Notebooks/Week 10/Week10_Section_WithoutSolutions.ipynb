{
 "cells": [
  {
   "cell_type": "code",
   "execution_count": 11,
   "metadata": {},
   "outputs": [],
   "source": [
    "import numpy as np\n",
    "import scipy.optimize\n",
    "import scipy.interpolate\n",
    "import matplotlib.pyplot as plt"
   ]
  },
  {
   "cell_type": "markdown",
   "metadata": {},
   "source": [
    "### **Table of Content**\n",
    "\n",
    "* Some math regarding optimizaitons and coding libraries\n",
    "* Interpolations, Curve Fitting. \n",
    "* Curve Fitting with Optimizaitons"
   ]
  },
  {
   "cell_type": "markdown",
   "metadata": {},
   "source": [
    "### **Interpolations**\n",
    "\n",
    "* We want more data points but there are not enough data points! And that is the reasons for us to interpolate. \n",
    "* Actually, Why are we only studying 1d data? \n",
    "\n",
    "**Function we are using for Python**\n",
    "\n",
    "[`scipy.interpolate.interp1d`](https://docs.scipy.org/doc/scipy/reference/generated/scipy.interpolate.interp1d.html) \n",
    "\n",
    "**Python Function Accepts**: \n",
    "(x, y, kind=?) <- These are the important parameters. \n",
    "\n",
    "* x: 1d array of data. \n",
    "* y: 1d array of data, for this class\n",
    "* kind: A string naming the method used for the interpolations. There are a lot \"‘linear’, ‘nearest’, ‘nearest-up’, ‘zero’, ‘slinear’, ‘quadratic’, ‘cubic’, ‘previous’, or ‘next’. ‘zero’, ‘slinear’, ‘quadratic’ and ‘cubic’ \"\n",
    "\n",
    "\n",
    "Note: Where, x and y has matching sizes, x is strictly a 1d array, and y has matching length in the axis of interpolation. (By default it's axis -1, the last fiber of the tensor)(Don't worry about it just make your y 1d as well and it will work)\n",
    "\n",
    "**Functionsd Returns**\n",
    "\n",
    "It returns a function where you can quiry your value. This is some cool functional programming APIs. \n",
    "\n",
    "**Function we are using for MATLAB**\n",
    "\n",
    "[`interp1`](https://www.mathworks.com/help/matlab/ref/interp1.html)\n",
    "\n",
    "**MATLAB Function Accepts**\n",
    "\n",
    "(x, v, xq, method)\n",
    "\n",
    "* x: The data points, 1d. \n",
    "* v: The matched with each data points, 1d \n",
    "* xq: The finner points that we wish to quiry the interpolated function with. \n",
    "\n",
    "**Returns**: \n",
    "* An array where each element is matching values in xq with the function value at those points. \n",
    "\n",
    "**ToDo**: \n",
    "\n",
    "Verifies some types for the intput and output parameters together with student in class using the `type` function in python. And go through the matlab code as well. \n",
    "\n",
    "\n",
    "\n",
    "### **Curve Fitting**\n",
    "\n",
    "**For both python and matlab**\n",
    "\n",
    "`polyfit`, `polyval` are the functions we use. In python, it's under the numpy package. \n",
    "\n",
    "Python: [`polyfit`](https://numpy.org/doc/stable/reference/generated/numpy.polyfit.html), [`polyval`](https://numpy.org/doc/stable/reference/generated/numpy.polyval.html). \n",
    "\n",
    "Matlab: [`polyfit`](https://www.mathworks.com/help/matlab/ref/polyfit.html), [`polyval`](https://www.mathworks.com/help/matlab/ref/polyval.html)\n",
    "\n",
    "Let's read the documentations together and find out all the differences. \n",
    "\n",
    "\n",
    "\n"
   ]
  },
  {
   "cell_type": "code",
   "execution_count": 12,
   "metadata": {},
   "outputs": [
    {
     "data": {
      "text/plain": [
       "<matplotlib.legend.Legend at 0x19676b63208>"
      ]
     },
     "execution_count": 12,
     "metadata": {},
     "output_type": "execute_result"
    },
    {
     "data": {
      "image/png": "[encoded data removed]",
      "text/plain": [
       "<Figure size 432x288 with 1 Axes>"
      ]
     },
     "metadata": {
      "needs_background": "light"
     },
     "output_type": "display_data"
    }
   ],
   "source": [
    "xp = np.arange(0,7.1,0.1)\n",
    "x = [0.0, 0.5, 1.1, 1.7, 2.1, 2.5, 2.9, 3.3, 3.7, 4.2, 4.9, 5.3, 6.0, 6.7, 7.0]\n",
    "y = [1.1, 1.6, 2.4, 3.8, 4.3, 4.7, 4.8, 5.5, 6.1, 6.3, 7.1, 7.1, 8.2, 6.9, 5.3]\n",
    "\n",
    "f = scipy.interpolate.interp1d(x, y) \n",
    "LinearInterpolateEval = f(xp)\n",
    "f2 = scipy.interpolate.interp1d(x, y,'nearest')\n",
    "NearestInterpolateEval = f2(xp)\n",
    "f3 = scipy.interpolate.CubicSpline(x, y)\n",
    "SplineInterpolateEval = f3(xp)\n",
    "\n",
    "plt.plot(\n",
    "    x, \n",
    "    y,\n",
    "    'o',\n",
    "    xp,\n",
    "    LinearInterpolateEval,\n",
    "    xp,\n",
    "    NearestInterpolateEval,\n",
    "    xp,\n",
    "    SplineInterpolateEval\n",
    ")\n",
    "plt.legend([\"Linear\", \"Nearest\", \"Cubic Spline\"])"
   ]
  },
  {
   "cell_type": "code",
   "execution_count": 13,
   "metadata": {},
   "outputs": [
    {
     "name": "stdout",
     "output_type": "stream",
     "text": [
      "Coefficients are: [0.83075702 2.13891403]\n"
     ]
    },
    {
     "data": {
      "text/plain": [
       "[<matplotlib.lines.Line2D at 0x19676c52da0>]"
      ]
     },
     "execution_count": 13,
     "metadata": {},
     "output_type": "execute_result"
    },
    {
     "data": {
      "image/png": "[encoded data removed]",
      "text/plain": [
       "<Figure size 432x288 with 1 Axes>"
      ]
     },
     "metadata": {
      "needs_background": "light"
     },
     "output_type": "display_data"
    }
   ],
   "source": [
    "PolynomialCoefficients = np.polyfit(x ,y, 1)\n",
    "print(f\"Coefficients are: {PolynomialCoefficients}\")  \n",
    "xp = np.arange(0, 7.1, 0.1)\n",
    "\n",
    "yp = np.polyval(PolynomialCoefficients, xp)\n",
    "\n",
    "plt.plot(x, y, 'o')\n",
    "plt.plot(xp, yp)"
   ]
  },
  {
   "cell_type": "markdown",
   "metadata": {},
   "source": [
    "### **Optimizing Function Parameters**\n",
    "\n",
    "For the context of the class this is what we aer doing.\n",
    "\n",
    "$$\n",
    "x^+ =  \\argmin_{\\theta} f(x| \\theta) \\quad \\forall x \\in \\text{Data}\n",
    "$$\n",
    "\n",
    "Sometimes, the function with parameters are referred to as **model**, and sometimes it can even represent a neural network in the literature. \n",
    "\n",
    "But in general, optimization problem is phrased as: \n",
    "\n",
    "$$\n",
    "x^+ \\in \\argmin_{x\\in X} f(x)\n",
    "$$\n",
    "\n",
    "Where $x^{+}$ is referred to as the **minimizer**. and the function is called the **Objective Function**. \n",
    "\n",
    "And sometime we wish to look for the value of the function when it's smallest, then we say: \n",
    "\n",
    "$$\n",
    "\\min_{x\\in X} f(x)\n",
    "$$\n",
    "\n",
    "\n",
    "When $x^+$, the optimal solution is unique, we replace $\\in$ with $=$. \n",
    "\n",
    "\n",
    "Quoted From Michael, the other friendly TA: \n",
    "\n",
    "> #### Two pieces to work out:\n",
    "> \n",
    "> 1. A domain of states to search over. Can be discrete, an interval, the real line, or\n",
    "> much more complicated. Sometimes called the Feasible Region.\n",
    "> 2. A function called the \"objective function. It's what we want to optimize.\n",
    "> Issues?\n",
    "> \n",
    "> Note: The optimal solution may not exist or may not be unique. Mathematical analysis is\n",
    "> needed to prove a unqiue optimal solution exists.\n",
    "\n",
    "**Questions for you:**\n",
    "\n",
    "* Why just min? Why not max? What if we want max instead? \n",
    "\n",
    "\n",
    "**NOTE**:\n",
    "\n",
    "Optimizations is extremely rich, and it's the corner stone of Applied Mathematics and the discrete side of it becomes the fundations for modern computer science as well. Your TA wishes to get a PhD relevant to this field of study and it's studying them day and night without a break. \n",
    "\n",
    "If you want to learn more about it, whether using them for the industries you will work in for the future, or just find them interesting and wish to leverage it to stay in the academia a bit longer, here is a list of classes that is relevant: \n",
    "\n",
    "\n",
    "> Math 407/408/409\n",
    "> \n",
    "> Math/Amath 514/515/516/518\n",
    "> \n",
    "> EE 445/447/550/556/578\n",
    "> \n",
    "> CSE 421/521/535/541\n",
    "> "
   ]
  },
  {
   "cell_type": "markdown",
   "metadata": {},
   "source": [
    "### **The Error Functions**\n",
    "\n",
    "For example, given $f$ to be a polynomial that evalutes at $x$, a singular points, and a set of data $\\{(x_i, y_i)\\}_{i=1}^n$. The error of the polynomial measured under 2 norm can be expressed as: \n",
    "\n",
    "$$\n",
    "E(\\theta) = \\sqrt{\n",
    "\\frac{1}{n} \\sum_{j = 1}^{n} (f(x_j| \\theta) - y_j))^2\n",
    "}\n",
    "$$\n",
    "\n",
    "Take note that, we want the error to reflects the average error and don't want it to scale with the number of data points, therefore the average of the squared difference is taken. This is called [MSE](https://en.wikipedia.org/wiki/Mean_squared_error) (Mean Squared Error) in Statistics. \n",
    "\n",
    "For your Homework, you can use min square error, or the MSE from statistics, they are the same because the minimizer, for a function scaled by a positive number is the same. (Think through this). \n",
    "\n",
    "\n",
    "### Let's get to the code!\n",
    "\n",
    "Firstly, read this documentations together. \n",
    "\n",
    "Python: [scipy.optimize.fimin](https://docs.scipy.org/doc/scipy/reference/generated/scipy.optimize.fmin.html) \n",
    "\n",
    "Matlab: [fminsearch](https://www.mathworks.com/help/matlab/ref/fminsearch.html)\n",
    "\n"
   ]
  },
  {
   "cell_type": "code",
   "execution_count": 14,
   "metadata": {},
   "outputs": [],
   "source": [
    "def TheModel(x, params): \n",
    "    pass\n",
    "\n",
    "\"\"\"\n",
    "    Function credit to Michael, the other friendly TA. \n",
    "\"\"\"\n",
    "def E2Error(params, model, xdata, ydata):\n",
    "    pass\n",
    "\n"
   ]
  },
  {
   "cell_type": "markdown",
   "metadata": {},
   "source": [
    "Let's fit the sin function using the sin functions, it should recover the parameters. "
   ]
  },
  {
   "cell_type": "code",
   "execution_count": 15,
   "metadata": {},
   "outputs": [
    {
     "name": "stdout",
     "output_type": "stream",
     "text": [
      "Optimization terminated successfully.\n",
      "         Current function value: 0.000011\n",
      "         Iterations: 42\n",
      "         Function evaluations: 81\n",
      "[2.49998407 3.14159165]\n"
     ]
    },
    {
     "data": {
      "text/plain": [
       "[<matplotlib.lines.Line2D at 0x19676ceba20>]"
      ]
     },
     "execution_count": 15,
     "metadata": {},
     "output_type": "execute_result"
    },
    {
     "data": {
      "image/png": "[encoded data removed]",
      "text/plain": [
       "<Figure size 432x288 with 1 Axes>"
      ]
     },
     "metadata": {
      "needs_background": "light"
     },
     "output_type": "display_data"
    }
   ],
   "source": [
    "xData = np.linspace(0, np.pi, 20)\n",
    "yData = 2.5*np.sin(np.pi*xData)\n",
    "\n",
    "InitialGuess = [4, 2]  # Numpy array should still be ok. Initial guess should be close\n",
    "Minimizer = scipy.optimize.fmin(\n",
    "    lambda x: E2Error(x, TheModel, xData, yData),\n",
    "    InitialGuess\n",
    "    )\n",
    "\n",
    "# What are the minimizer? \n",
    "\n",
    "print(Minimizer)\n",
    "plt.plot(TheModel(xData, Minimizer), '-o')\n",
    "plt.plot(yData)\n"
   ]
  },
  {
   "cell_type": "code",
   "execution_count": 25,
   "metadata": {},
   "outputs": [
    {
     "name": "stdout",
     "output_type": "stream",
     "text": [
      "Optimization terminated successfully.\n",
      "         Current function value: 0.874696\n",
      "         Iterations: 7325\n",
      "         Function evaluations: 9155\n",
      "[-3.38075191 -0.43093733  2.01798888  0.12872119  0.2484118  -0.0345202\n",
      " -0.2040557   0.42241657 -0.30538331  0.57367079 -0.18941888  1.03038177\n",
      " -1.01730148  0.72238692 -0.67137076  0.37057821 -0.20579923  0.28860627\n",
      " -0.30808739 -0.113697  ]\n"
     ]
    },
    {
     "data": {
      "text/plain": [
       "[<matplotlib.lines.Line2D at 0x19677e4b438>]"
      ]
     },
     "execution_count": 25,
     "metadata": {},
     "output_type": "execute_result"
    },
    {
     "data": {
      "image/png": "[encoded data removed]",
      "text/plain": [
       "<Figure size 432x288 with 1 Axes>"
      ]
     },
     "metadata": {
      "needs_background": "light"
     },
     "output_type": "display_data"
    }
   ],
   "source": [
    "xData = np.linspace(0, np.pi, 100)\n",
    "yData = 2.5*np.cos(xData)\n",
    "FREQCOUNT = 20\n",
    "InitialGuess = np.zeros(FREQCOUNT) # all frequencies are zero. \n",
    "\n",
    "def FittingWaves(x, params): \n",
    "    pass\n",
    "\n",
    "\n",
    "Minimizer = scipy.optimize.fmin(\n",
    "        lambda x: E2Error(x, FittingWaves, xData, yData),\n",
    "        InitialGuess, \n",
    "        maxfun=10000\n",
    "    )\n",
    "\n",
    "    \n",
    "print(Minimizer)\n",
    "plt.plot(FittingWaves(xData, Minimizer), '-o')\n",
    "plt.plot(yData)\n",
    "\n"
   ]
  }
 ],
 "metadata": {
  "interpreter": {
   "hash": "215956e4b4668669a8b8858f1727617b59431327e1577833621c6b2dfef7bf8e"
  },
  "kernelspec": {
   "display_name": "Python 3.7.7 64-bit ('ml_optimization': conda)",
   "language": "python",
   "name": "python3"
  },
  "language_info": {
   "codemirror_mode": {
    "name": "ipython",
    "version": 3
   },
   "file_extension": ".py",
   "mimetype": "text/x-python",
   "name": "python",
   "nbconvert_exporter": "python",
   "pygments_lexer": "ipython3",
   "version": "3.7.2"
  },
  "orig_nbformat": 4
 },
 "nbformat": 4,
 "nbformat_minor": 2
}
