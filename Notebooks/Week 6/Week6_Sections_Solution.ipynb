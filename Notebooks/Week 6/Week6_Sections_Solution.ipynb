{
 "cells": [
  {
   "cell_type": "markdown",
   "metadata": {},
   "source": [
    "### **Table of Contents**\n",
    "\n",
    "* What is going on mathematically. \n",
    "* What is going on with the code (Important, hw related). \n",
    "* What is the error? How are we going to see the error computationally. \n",
    "* Some extra cool stuff if we have time. "
   ]
  },
  {
   "cell_type": "markdown",
   "metadata": {},
   "source": [
    "## **Formulas For Finite Difference**\n",
    "\n",
    "Finite Differentials: \n",
    "\n",
    "Everything started with the Taylor Series view of things: \n",
    "\n",
    "> $$\n",
    "> \\exist \\; t \\in (x, c) : f(x) = \\left(\n",
    ">     \\sum_{k = 0}^{n} \\frac{f^{(k)}(c)(x - c)^k}{k!}\n",
    "> \\right) + \n",
    "> \\frac{f^{(n + 1)}(t)(x -c)^{n + 1}}{(n + 1)!}\n",
    "> $$\n",
    "\n",
    "Sometimes, the last term is written in integral form using Intermediate Value Theorem. \n",
    "\n",
    "We are assuming that the function is $C^{k}$ smooth, meaning that $f^{(k)}$ is a continuous function. \n",
    "\n",
    "Now, in lecture, we adhere to Taylor Series expanded at the point $x$, but approximating the value of $x + h$, which can be written as: \n",
    "\n",
    "> $$\n",
    "> \\begin{aligned}\n",
    ">     f(x + h) &= f(x) + hf'(x) + \\frac{h^2}{2} f''(x) + \\frac{h^3}{6} f^{(3)}(x) \\cdots  +\\frac{h^n}{n!}f^{(n)}(x) + \\mathcal{O}(h^{(n + 1)})\n",
    "> \\end{aligned}\n",
    "> $$\n",
    "\n",
    "Now, the spirit of is to take the deriative on the function, using alue of the functions, **evaluated at equally spaced** points. And if they are not equally spaces, you might need to work with something like [Larange Polynomial](https://mathworld.wolfram.com/LagrangeInterpolatingPolynomial.html). \n",
    "\n",
    "---\n",
    "### **Order 2 Finite Differences**\n",
    "**Forward, Backward**: \n",
    "\n",
    "$\\mathcal{O}(\\Delta t^2)$ forward and backwards difference schemes for $f'(t)$ and $f''(t)$. \n",
    "\n",
    "$$\n",
    "f'(t) = \\frac{\\pm 3f(t) \\mp  4f(t\\mp \\Delta t) \\pm f(t \\mp 2\\Delta t)}\n",
    "{2\\Delta t}\n",
    "$$\n",
    "\n",
    "$$\n",
    "f''(t) = \\frac{2f(t) - 5f(t \\pm \\Delta t) + 4f(t \\pm 2\\Delta t) - f(t \\pm 3\\Delta t)}\n",
    "{\\Delta t^2}\n",
    "$$\n",
    "\n",
    "Notice the some of the symmetry here allows us to exploit the super position operator $\\pm$ and $\\mp$. \n",
    "\n",
    "Or, you can use the Sympy (python module) to look for finite difference in a quick and dirty way.\n",
    "\n",
    "**Central**: \n",
    "$$\n",
    "\\begin{array}{l}\n",
    "f^{\\prime}(t) &=&[f(t+\\Delta t)-f(t-\\Delta t)] / 2 \\Delta t\n",
    "\t\\\\\n",
    "f^{\\prime \\prime}(t)&=&[f(t+\\Delta t)-2 f(t)+f(t-\\Delta t)] / \\Delta t^{2}\n",
    "\t\\\\\n",
    "f^{\\prime \\prime \\prime}(t)&=&[f(t+2 \\Delta t)-2 f(t+\\Delta t)+2 f(t-\\Delta t)-f(t-2 \\Delta t)] / 2 \\Delta t^{3}\n",
    "\t\\\\\n",
    "f^{\\prime \\prime \\prime}(t)&=&[f(t+2 \\Delta t)-4 f(t+\\Delta t)+6 f(t)-4 f(t-\\Delta t)+f(t-2 \\Delta t)] / \\Delta t^{4}\n",
    "\\end{array}\n",
    "$$\n",
    "\n",
    "---\n",
    "### **Order 4th Finite Differences**\n",
    "\n",
    "**Central Difference Scheme**\n",
    "\n",
    "$$\n",
    "\\begin{aligned}\n",
    "&f^{\\prime}(t)=[-f(t+2 \\Delta t)+8 f(t+\\Delta t)-8 f(t-\\Delta t)+f(t-2 \\Delta t)] / 12 \\Delta t \\\\\n",
    "&f^{\\prime \\prime}(t)=[-f(t+2 \\Delta t)+16 f(t+\\Delta t)-30 f(t) \\\\\n",
    "&\\quad+16 f(t-\\Delta t)-f(t-2 \\Delta t)] / 12 \\Delta t^{2}\n",
    "\\end{aligned}\n",
    "$$\n",
    "\n",
    "Reference: From page41 of the textbook.  \n",
    "\n",
    "**Backwards and Forwards Diff**\n",
    "\n",
    "I am not sure where it is, probably need to derive it some point I think. \n",
    "\n",
    "\n"
   ]
  },
  {
   "cell_type": "markdown",
   "metadata": {},
   "source": [
    "## **Integration Schemes**\n",
    "\n",
    "This is known to most people I believe, and I will just restated the Riemann Sum here for ease of referencing: \n",
    "\n",
    "**Basic Quantities**\n",
    "\n",
    "The grid points, the function outputs at each point: \n",
    "\n",
    "$$\n",
    "\\begin{aligned}\n",
    "    x_0 &= x_0\\\\\n",
    "    x_1 &= x_0 + h\\\\\n",
    "    x_2 &= x_0 + 2h\\\\\n",
    "    f_i &= f(x_i)\n",
    "\\end{aligned}\n",
    "$$\n",
    "\n",
    "---\n",
    "**Trapzoid Rule**\n",
    "\n",
    "$$\n",
    "\\int_{x_0}^{x_1} f(x)dx = \\frac{h}{2}(f_0 + f_n) - \\frac{h^3}{12}f''(c)\n",
    "$$\n",
    "\n",
    "In here, $h = x_1 - x_0$. And the function value between the point $x_0 and X_1$ is approximated using the avaerage of the function at $x_1$, $x_0$. $f_0 = f(x_0)$, $f_1 = f(x_1)$. \n",
    "\n",
    "Error scales like $h^2$, and we need 2 for each discretized intervals. \n",
    "\n",
    "**Now for this example**, let's consider having the pints $x_0, x_1, \\cdots, x_n$ on the axis, then the intgral is basically: \n",
    "\n",
    "> $$ \n",
    "> \\begin{aligned}\n",
    ">     \\int_{x_0}^{x_n}f(x) dx &= \\sum_{i = 0}^{n - 1} \\int_{x_i}^{x_{i + 1}} f(x)dx\n",
    ">     \\\\\n",
    ">     & = \\left(\n",
    ">     \\sum_{i = 0 }^{n - 1} \\frac{h}{2}(f_0 + f_n) \\right) + \\mathcal{O}(h^2)  \n",
    ">     \\\\\n",
    ">     & = \\frac{h}{2}\\left(f_0 + f_n + 2 \\sum_{i = 1}^{n - 1}f_i\\right) + \\mathcal{O}(h^2)\n",
    "> \\end{aligned}\n",
    "> $$\n",
    "\n",
    "However, the more accuracy you want, the more points will be needed to approximates the value of the function at some given interval. \n",
    "\n",
    "---\n",
    "**Simposon's Rule**\n",
    "\n",
    "$$\n",
    "\\int_{x_0}^{x_2} \n",
    "    \\frac{h}{3}(f_0 + 4f_1+ f_2)\n",
    "dx + \\mathcal{O}(h^5)\n",
    "$$\n",
    "\n",
    "\n",
    "This time, we are taking 3 points, which means that we need 2 intervals each time to take the integral. Same deal. \n",
    "\n",
    "\n",
    "> $$\n",
    "> \\begin{aligned}\n",
    ">     \\sum_{i = 0}^{n/2} \\frac{h}{3}(f_{2i} + 4f_{2i + 1}+ f_{2i + 2})\n",
    "> \\end{aligned} + \\mathcal{O}(n^4)\n",
    "> $$\n",
    "\n",
    "**Note**: You must use odd number of points, if not, we must need higher accuracy method to handle the extra 4 points to keep the accuracy of the method. \n",
    "\n",
    "**Note**: \n",
    "\n",
    "In some text book it's written as: \n",
    "\n",
    "$$\n",
    "\\int_{a}^{b} \\frac{b - a}{6}\\left(\n",
    "    f_a + 4f\\left(\\frac{a + b}{2}\\right) + f_b\n",
    "\\right)dx\n",
    "$$\n",
    "\n",
    "Which is the same if we consider that $b - a = 2h$, and use 3 points to represents the intervals $[a, b]$ for the integral. \n",
    "\n",
    "\n",
    "**Recursive Refinement**\n",
    "\n",
    "This is a method recurssively sub-divides the domain to take the integral, and there is a very dynamic way of building up the integral recursively using the results from the previous stepsize. \n",
    "\n",
    "The method an also be made adaptive to error and the local behaviors of the function, called the [Adaptive quadrature](https://en.wikipedia.org/wiki/Adaptive_quadrature), which is implemented as the `integral` function in Matlab and scipy. \n",
    "\n"
   ]
  },
  {
   "cell_type": "markdown",
   "metadata": {},
   "source": [
    "### **Code with Grace(Start good Coding practices please)**\n",
    "\n",
    "Observe that, the differential of the function is just the weighted sums of the adjacent point. \n",
    "\n",
    "This means that we can write a function for each of the method, and feed it the point we want to get the value of differential at that point.  \n",
    "\n",
    "Observe again that, these method are just array opeartions on one array itself, involving sums and basic array manipulations. \n",
    "\n",
    "Exercise: \n",
    "\n",
    "Consider a function, `SecondOrderSecondDiff(i, arr)`, which takes in the index of the point, $x_i$, and return the differential (assuming h = 1, we can always scale it later.) from the `arr`. \n",
    "\n",
    "* `arr`: $[f(x_0), f(x_1), \\cdots, f(x_n)]$\n",
    "* `0 <= i <= len(arr)`\n",
    "\n",
    "This is a graceful way to do it because it's separatinfg the action of taking the derivative for each points on the array, and the details of taking summing up all the function values at those points with the corresponding weights. \n",
    "\n",
    "<details>\n",
    "<summary>\n",
    "    Hints\n",
    "</summary>\n",
    "\n",
    "* Takes in the values\n",
    "  \n",
    "* Appliey the formula for points $x_{i}, x_{i - 1}, x_{i +_ 1}$, if they are not out of boundary of the array, and check different cases, applying the finite difference intelligently. \n",
    "\n",
    "* Return the results.\n",
    "</details>"
   ]
  },
  {
   "cell_type": "code",
   "execution_count": 2,
   "metadata": {},
   "outputs": [],
   "source": [
    "import numpy as np\n",
    "import matplotlib.pyplot as plt\n",
    "\n",
    "def SecondOrderSecondDiffAt(i, arr): \n",
    "    Summation = 0\n",
    "    if i < 0 or i >= len(arr) : \n",
    "        raise Exception(\"Array index out of range, please check your code. \")\n",
    "    if len(arr) < 4:\n",
    "        raise Exception(\"Too small for Second Order Second Differetial on this array. \")\n",
    "    elif i == 0: # Left boundary points \n",
    "        Weights = [2, -5, 4, -1]\n",
    "        for IdexI in range(4):\n",
    "            Summation += Weights[IdexI]*arr[IdexI]\n",
    "        return Summation\n",
    "    elif i == len(arr) - 1: # right Boundary Points \n",
    "        Weights = [2, -5, 4, -1]\n",
    "        for IdexI in range(4):\n",
    "            Summation += Weights[IdexI]*arr[IdexI - 4]\n",
    "        return Summation\n",
    "    else: \n",
    "        Weights = [1, -2, 1]\n",
    "        Summation = Weights[0]*arr[i-1] + Weights[1]*arr[i] + Weights[2]*arr[i + 1]\n",
    "        return Summation\n",
    "    \n",
    "    # Function should have terminated at this point. \n"
   ]
  },
  {
   "cell_type": "markdown",
   "metadata": {},
   "source": [
    "### **Take this for a Spin**\n",
    "\n",
    "Ok, let's take this for a spin. "
   ]
  },
  {
   "cell_type": "code",
   "execution_count": 3,
   "metadata": {},
   "outputs": [
    {
     "data": {
      "image/png": "[encoded data removed]",
      "text/plain": [
       "<Figure size 432x288 with 1 Axes>"
      ]
     },
     "metadata": {
      "needs_background": "light"
     },
     "output_type": "display_data"
    }
   ],
   "source": [
    "dx=0.01\n",
    "x = np.arange(-4,4+dx,dx)\n",
    "y = np.sin(x)  # function to differentiate\n",
    "diff = np.zeros(len(y))\n",
    "for IdexI in range(len(y)): \n",
    "    diff[IdexI] = SecondOrderSecondDiffAt(IdexI, y)/(dx**2)\n",
    "plt.plot(x, y)\n",
    "plt.plot(x, diff)\n",
    "plt.plot(x, -np.sin(x), ':')\n",
    "plt.legend([\"sin\", \"sin''\", \"-sin\"])\n",
    "\n",
    "# Oh weight, we can write another function for this task of taking the differential on the whole array: \n",
    "\n",
    "def SecondOrderSecondDiffFor(y, h): \n",
    "    diff = np.zeros(len(y))\n",
    "    for IdexI in range(len(y)): \n",
    "        diff[IdexI] = SecondOrderSecondDiffAt(IdexI, y)/(h**2)\n",
    "    return diff\n",
    "\n"
   ]
  },
  {
   "cell_type": "markdown",
   "metadata": {},
   "source": [
    "### **Experiementing with the Error**\n",
    "\n",
    "Ok, what is the error of the 2n order scheme? Well... It's hard to tell without some statistics method with log log plot and linear regression, but I can compare it against with a first order method. \n",
    "\n",
    "**Exercise**: \n",
    "Suppose that the value of $h$ decreases geometrically by a factor of 2, and started with $2^{-4}$: $2^{-4}, 2^{-5}, 2^{-6}$ all the way to $\\frac{1}{2^{19}}$, how does the error changes wrt to the step sizes we chose? Find out this experimentally. \n",
    "\n",
    "* To carry out the experiment, we plan to use $\\sin(20*x)$ as an example, and take the second differential on it. \n",
    "\n",
    "\n",
    "Fact: The error is going to decrease and then increase again. It decreases because of increasing accuracy of the analytical error, it then increases again because of the floating point error. "
   ]
  },
  {
   "cell_type": "code",
   "execution_count": 4,
   "metadata": {},
   "outputs": [
    {
     "name": "stdout",
     "output_type": "stream",
     "text": [
      "[4.695303713827373, 2.4460920157124115, 1.2404837780645406, 0.623673942154058, 0.31257769273097613, 0.1564592974431741, 0.07827041652867957, 0.03914516975883699, 0.019575045725075336, 0.009788135694895958, 0.004894192796439648, 0.002447211899226438, 0.0012258050080513469, 0.0007446665071121662, 0.0024527514623489967, 0.013801848862775582]\n"
     ]
    },
    {
     "data": {
      "text/plain": [
       "Text(0, 0.5, 'Log of the error norm')"
      ]
     },
     "execution_count": 4,
     "metadata": {},
     "output_type": "execute_result"
    },
    {
     "data": {
      "image/png": "[encoded data removed]",
      "text/plain": [
       "<Figure size 432x288 with 1 Axes>"
      ]
     },
     "metadata": {
      "needs_background": "light"
     },
     "output_type": "display_data"
    }
   ],
   "source": [
    "h = 2**(-4)\n",
    "StepSizes = []\n",
    "Errors = []  # Python native array. \n",
    "\n",
    "for I in range(16): \n",
    "    x = np.arange(0,1 + h,h)  # Only on the interval from [0, 1]\n",
    "    y = np.sin(3*x)  # function to differentiate\n",
    "    dy2dx2 = SecondOrderSecondDiffFor(y, h) \n",
    "    Errors.append(np.linalg.norm(dy2dx2 + 9*np.sin(3*x)))\n",
    "    StepSizes.append(h)\n",
    "    h /= 2\n",
    "\n",
    "print(Errors)\n",
    "plt.plot(\n",
    "        np.log(np.array(StepSizes)),\n",
    "        np.log(Errors)\n",
    "    )\n",
    "plt.title(\"Error Bouncing Back\")\n",
    "plt.xlabel(\"Log of the step size\")\n",
    "plt.ylabel(\"Log of the error norm\")"
   ]
  },
  {
   "cell_type": "markdown",
   "metadata": {},
   "source": [
    "### **Integrations(Homework Related)**\n",
    "\n",
    "Taking the Integral is easy, we just need to sum things up that is all. \n",
    "\n",
    "There are 2 ways to do it depending on what we try to do: \n",
    "\n",
    "* Sum up using the integral formula while keeping the running sum and return the array representing the integral as the result. We are interested in the running sum of the function. (**This is done in class**)\n",
    "* Only a scalar as the results, which is the value of the finite integral. \n",
    "\n",
    "Let's take a look at the trapz method and see what we can do: \n",
    "\n",
    "$$\n",
    "\\int_{x_0}^{x_n}f(x) dx \\approx \\frac{h}{2}\\left(f_0 + f_n + 2 \\sum_{i = 1}^{n - 1}f_i\\right) \n",
    "$$\n",
    "\n",
    "Suppose that array `arr` represetns $[f_0, f_1, \\cdots, f_n]$, then certainly `arr[:-1]` is the array with every element excluding the last one, while `arr[1:]` is the array with every element excluding the first one. How would you make use of this to write the integral in one line without using any forloop? Hopefully using `np.sum`, or `sum` in matlab. \n",
    "\n",
    "\n",
    "<details>\n",
    "<summary>hints</summary>\n",
    "\n",
    "* Slice out the array that excludes the first and the last element, sum it up and then multiply it by 2, then we have the summation taken care of. \n",
    "* Add the end points $f_0, f_n$ to the sum. No forloop is needed. \n",
    "\n",
    "</details>\n"
   ]
  },
  {
   "cell_type": "code",
   "execution_count": 5,
   "metadata": {},
   "outputs": [],
   "source": [
    "# Impelement this function on one line without using a forloop. \n",
    "def TrapzoidalRule(arr, h):\n",
    "    return (h/2)*(2*np.sum(arr[1:-1]) + arr[0] + arr[-1])\n",
    "\n",
    "def TrapzoidalIntegral(fxn:callable, a, b, h): \n",
    "    Grids = np.arange(a, b + h, h) \n",
    "    Ys = fxn(Grids)\n",
    "    return TrapzoidalRule(Ys, h)\n",
    "\n",
    "\n",
    "\n"
   ]
  },
  {
   "cell_type": "markdown",
   "metadata": {},
   "source": [
    "### **Computing the Probability**\n",
    "\n",
    "Let's use the trapzoidal rule we wrote to compute the probability of getting a random variable from the Standard normal distribution that lies within the `[-sigma, sigma]` interval. \n",
    "\n"
   ]
  },
  {
   "cell_type": "code",
   "execution_count": 6,
   "metadata": {},
   "outputs": [
    {
     "name": "stdout",
     "output_type": "stream",
     "text": [
      "0.6826894917338232\n"
     ]
    },
    {
     "data": {
      "image/png": "[encoded data removed]",
      "text/plain": [
       "<Figure size 432x288 with 1 Axes>"
      ]
     },
     "metadata": {
      "needs_background": "light"
     },
     "output_type": "display_data"
    }
   ],
   "source": [
    "# Let's use this to figure out the integral of the normal distribution: \n",
    "mu = 0 \n",
    "sigma = 1\n",
    "def phi(x):\n",
    "    # Accepts a vector and return a vector of all the output values of the system:     \n",
    "    Result = (x - mu)/sigma\n",
    "    Result = -(Result**2)/2\n",
    "    Result = np.exp(Result)\n",
    "    Result /= sigma*np.sqrt(2*np.pi)\n",
    "    return Result\n",
    "\n",
    "x = np.arange(-3*sigma, 3*sigma, 1e-4)\n",
    "y = phi(x)\n",
    "plt.plot(x, y)\n",
    "plt.vlines(-sigma, ymin=0, ymax=phi(sigma), colors=\"red\")\n",
    "plt.vlines(sigma, ymin=0, ymax=phi(sigma), colors=\"red\")\n",
    "plt.title(\"Standard Normal Distribution\")\n",
    "print(TrapzoidalIntegral(phi, -sigma, sigma, 1e-4))"
   ]
  },
  {
   "cell_type": "markdown",
   "metadata": {},
   "source": []
  }
 ],
 "metadata": {
  "interpreter": {
   "hash": "215956e4b4668669a8b8858f1727617b59431327e1577833621c6b2dfef7bf8e"
  },
  "kernelspec": {
   "display_name": "Python 3.7.7 64-bit ('ml_optimization': conda)",
   "name": "python3"
  },
  "language_info": {
   "codemirror_mode": {
    "name": "ipython",
    "version": 3
   },
   "file_extension": ".py",
   "mimetype": "text/x-python",
   "name": "python",
   "nbconvert_exporter": "python",
   "pygments_lexer": "ipython3",
   "version": "3.7.7"
  },
  "orig_nbformat": 4
 },
 "nbformat": 4,
 "nbformat_minor": 2
}
