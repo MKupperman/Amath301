{
 "cells": [
  {
   "cell_type": "markdown",
   "metadata": {},
   "source": [
    "### **A Confession First: I Learned a Different DL Frameworks From Professor Kutz**\n",
    "\n",
    "I didn't learn how to do deep learning in `keras`, the tensorflow APIs. I used `pytorch` and it's taught by CSE 546. \n",
    "\n",
    "Therefore, for everyone who wants to learn the fundamental of machine learning, take a look at CSE 546/446. You can petition into the class with the prereq, and even better, CSE 546 is open for petition (Not sure about 446). \n",
    "\n",
    "This is especially good if you are in other deparments who are interested in learning about the fundamental of machine learning, both in a a prectical sense, and a theoretical sense. \n",
    "\n",
    "Click [this](https://courses.cs.washington.edu/courses/cse446/21sp/schedule/) for a link to CSE 546 2021 Spring. \n",
    "\n",
    "Finally, CSE 546 is an advanced class, and for those who lacks some background, feel free to take STATS 390, MATH 394, CSE 163 to get a complete background for the class, and it should help with the petition too. \n",
    "\n",
    "### **Where to Learn more about Deep Learning and Machine Learning**\n",
    "\n",
    "\n",
    "**Machine Learning classes AT UW**\n",
    "\n",
    "* AMATH 563   <-- from our department, we focuses on ML, DL for dynamical system, optimal control, and solving PDEs. \n",
    "* CSE 446/546 \n",
    "* CSE 547\n",
    "* CSE 599G1/490G1\n",
    "* CSE/STATS/416\n",
    "\n",
    "**Machine Learning Classes at other University**\n",
    "* [Introduction to Deep Learning from MIT](http://introtodeeplearning.com/); It's all on Youtube\n",
    "* [Deep Learning, CS230 from Staford](https://cs230.stanford.edu/); it's all on youtube\n",
    "\n",
    "\n",
    "**Prereq for Deep Learning/Machine Learning** (My personal advise)\n",
    "\n",
    "You would definitely need the following pre-requisites for understanding the fundations of machine learning. \n",
    "\n",
    "* Statistics Inferences: Math 390 or above \n",
    "* Probability: Math 394 or above\n",
    "* Advanced Linear Algebra:  Math 352 or above\n",
    "* Information Theory: Some specific topics such as cross entropy, Bregman Divergences are used in loss function of classification neural networks and Vartional Auto Encoder. \n",
    "* Multi-variable Calculus: You need to at least get an idea about what it means to do back prop. \n",
    "* Programming: Some degree of programming is needed, and it will be more complicated than msot of the things we did in class so far. This class is a good starting point for it. \n",
    "\n",
    "**However**\n",
    "\n",
    "In all practical sense, people can do deep learning by just copying the example code from the website and pretend they know everything. \n",
    "\n",
    "### **Books and Sources for Deep Learning/Machine Learning Fundations**\n",
    "\n",
    "**Introductory**: \n",
    "[Tensor Flow Neural Network Playground](https://playground.tensorflow.org/) An interactive website for training neural networks.\n",
    "[Dive into Deep Learning](https://d2l.ai/) An interactive textbook for deep learning. \n",
    "\n",
    "**Fundations**: \n",
    "\n",
    "* Deep Learning; Goodfellow, lan, yYoshua Bengio & Aaron Courville\n",
    "* The Elements of Statistical Learning; Trevor Hastie, Rober Tibshirani, Jerome Friedman\n",
    "* Machine Learning - A Probablistic Prospective; Kevin P. Murphy\n",
    "* High-Dimensional Probability - An Introduction with Applications in Data Science; Roman Vershynin\n",
    "\n",
    "**Applications**: \n",
    "* Data-Driven Science and Engineering; J.Nathan Kutz, Steven L. Brunton\n",
    "\n",
    "\n",
    "### **However**\n",
    "\n",
    "Deep learning frameworks are completed with the following features: \n",
    "\n",
    "* Automatic Differentiation \n",
    "* Convenient Libraries \n",
    "* GPU Support\n",
    "\n",
    "Common Machine Learning Frameworks: \n",
    "\n",
    "* pytorch\n",
    "* tensorflow"
   ]
  },
  {
   "cell_type": "markdown",
   "metadata": {},
   "source": [
    "### **Setting Up Deep Learning Framworks for Python/Matlab**\n",
    "\n",
    "demonstrate this in class. "
   ]
  },
  {
   "cell_type": "markdown",
   "metadata": {},
   "source": [
    "### **Gradient Programming and Automatic Differential**\n",
    "\n"
   ]
  },
  {
   "cell_type": "code",
   "execution_count": null,
   "metadata": {},
   "outputs": [],
   "source": [
    "import numpy as np \n",
    "import matplotlib.pyplot as plt \n",
    "import tensorflow as tf  # tf doesn't stand for: The F**k \n",
    "\n"
   ]
  }
 ],
 "metadata": {
  "interpreter": {
   "hash": "215956e4b4668669a8b8858f1727617b59431327e1577833621c6b2dfef7bf8e"
  },
  "kernelspec": {
   "display_name": "Python 3.7.7 64-bit ('ml_optimization': conda)",
   "language": "python",
   "name": "python3"
  },
  "language_info": {
   "name": "python",
   "version": "3.7.7"
  },
  "orig_nbformat": 4
 },
 "nbformat": 4,
 "nbformat_minor": 2
}
