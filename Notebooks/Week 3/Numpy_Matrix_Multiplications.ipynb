{
 "cells": [
  {
   "cell_type": "code",
   "execution_count": 1,
   "source": [
    "import numpy as np\r\n",
    "from scipy import linalg  # Invoke with linalg\r\n",
    "import scipy.linalg  # invoke with scipy.linalg"
   ],
   "outputs": [],
   "metadata": {}
  },
  {
   "cell_type": "markdown",
   "source": [
    "### **Matrix Matrix Multiplications operator @**\r\n",
    "\r\n",
    "* `A@B` is a binary operator on A, B where A, B are both 2d array (matrices). It's equivalent to invoking `A.matnul(B)`. \r\n",
    "\r\n",
    "Mathematically, assuming $A$ is $n\\times m$ and $B$ is $m\\times k$\r\n",
    "\r\n",
    "$$\r\n",
    "(AB)_{i, j} = \\sum_{k = 1}^{m} A_{i, k}B_{k, j}\r\n",
    "$$\r\n",
    "\r\n",
    "The $i, j$ th element of the product matrix $AB$ is the sum over the elementwise product on the $i$ th row of $A$ and $j$ th column of b. Notice that this means the operations is only possible if the number of columns of the first matrix matches the number of rows of the second matrix. \r\n",
    "\r\n",
    "Numpy Documentations [here](https://numpy.org/doc/stable/reference/generated/numpy.matmul.html)\r\n",
    "\r\n",
    "**Note**\r\n",
    "\r\n",
    "The `@` operator is fine as long as you know for sure the left and right are both 2d arrays. \r\n",
    "\r\n",
    "**WARNING**\r\n",
    "\r\n",
    "`np.matrix` object is deprecated and don't use it, they also have different bahavior under `*` operator. \r\n",
    "\r\n",
    "`*` THIS IS NOT MATRIX MATRIX PRODUCT, it's the [Hadamard Product](https://en.wikipedia.org/wiki/Hadamard_product_(matrices)), but it is matrix vector multiplications wehn `*` is invoked with `np.matrix`. "
   ],
   "metadata": {}
  },
  {
   "cell_type": "code",
   "execution_count": 2,
   "source": [
    "m, n, k = 3, 5, 7  # m, n, k can be equal to 1, and that would be the same matrix vector product \r\n",
    "A = np.random.randint(10, size=(n, m))  # just random matrices with entries between 0 and 9. \r\n",
    "B = np.random.randint(10, size=(m, k))\r\n",
    "print(A@B)"
   ],
   "outputs": [
    {
     "output_type": "stream",
     "name": "stdout",
     "text": [
      "[[100  40  78  66  68 106  72]\n",
      " [ 90  40  72  60  64  88  60]\n",
      " [108  42  83  83  67 137  96]\n",
      " [ 22  28  24  48  14  40  36]\n",
      " [ 41  24  33  69  14  99  78]]\n"
     ]
    }
   ],
   "metadata": {}
  },
  {
   "cell_type": "markdown",
   "source": [
    "Matrix with 1d vector multiplication is also possible. And in that case the output vector will have the same dimension as the vector involved in the multiplication. "
   ],
   "metadata": {}
  },
  {
   "cell_type": "code",
   "execution_count": 17,
   "source": [
    "u = np.random.randint(10, size=m)\r\n",
    "(A@u).shape\r\n",
    "print(A@u)"
   ],
   "outputs": [
    {
     "output_type": "stream",
     "name": "stdout",
     "text": [
      "[58 54 67 34 44]\n"
     ]
    }
   ],
   "metadata": {}
  },
  {
   "cell_type": "code",
   "execution_count": 16,
   "source": [
    "u = np.random.randint(10, size=(m,  1))\r\n",
    "(A@u).shape\r\n",
    "print(A@u)"
   ],
   "outputs": [
    {
     "output_type": "stream",
     "name": "stdout",
     "text": [
      "[[132]\n",
      " [116]\n",
      " [149]\n",
      " [ 30]\n",
      " [ 68]]\n"
     ]
    }
   ],
   "metadata": {}
  },
  {
   "cell_type": "markdown",
   "source": [
    "### **Np.dot**\r\n",
    "\r\n",
    "The following is copied straight from offcial numpy doc: [here](https://numpy.org/doc/stable/reference/generated/numpy.dot.html)\r\n",
    "\r\n",
    "> numpy.dot\r\n",
    "> \r\n",
    "> numpy.dot(a, b, out=None)\r\n",
    "> \r\n",
    "> Dot product of two arrays. Specifically,\r\n",
    "> \r\n",
    "> * **If both a and b are 1-D arrays, it is inner product of vectors (without complex conjugation)**.  <--- You are working with this for this class\r\n",
    "> \r\n",
    "> * **If both a and b are 2-D arrays, it is matrix multiplication, but using matmul or a @ b is preferred**.  <--- You are working with this for this class\r\n",
    "> \r\n",
    "> * If either a or b is 0-D (scalar), it is equivalent to multiply and using numpy.multiply(a, b) or a * b is preferred.\r\n",
    "> \r\n",
    "> * If a is an N-D array and b is a 1-D array, it is a sum product over the last axis of a and b.\r\n",
    "> \r\n",
    "> * If a is an N-D array and b is an M-D array (where M>=2), it is a sum product over the last axis of a and the second-to-last axis of b:\r\n",
    "\r\n",
    "This function is pretty general. It's meant for a special type of tensor product. But it reduces to usual product in linear alegbra when we have matrices and vector. \r\n",
    "\r\n",
    "**Demonstration:** "
   ],
   "metadata": {}
  },
  {
   "cell_type": "code",
   "execution_count": 18,
   "source": [
    "print(\"Matrix Matrix product\")\r\n",
    "print(np.dot(A, B))\r\n",
    "v = np.random.randint(10, size=(A.shape[1]))  # 1d vector , where A.shape[1]  is giving me the length of the first axis of the tensor A (The number of columns of A) \r\n",
    "print(\"Matrix with 1d vector\")\r\n",
    "print(np.dot(A, v))\r\n",
    "print(\"Matrix with 2d vector\")\r\n",
    "print(np.dot(A, v.reshape(-1, 1)))"
   ],
   "outputs": [
    {
     "output_type": "stream",
     "name": "stdout",
     "text": [
      "Matrix Matrix product\n",
      "[[100  40  78  66  68 106  72]\n",
      " [ 90  40  72  60  64  88  60]\n",
      " [108  42  83  83  67 137  96]\n",
      " [ 22  28  24  48  14  40  36]\n",
      " [ 41  24  33  69  14  99  78]]\n",
      "Matrix with 1d vector\n",
      "[136 118 158  34  81]\n",
      "Matrix with 2d vector\n",
      "[[136]\n",
      " [118]\n",
      " [158]\n",
      " [ 34]\n",
      " [ 81]]\n"
     ]
    }
   ],
   "metadata": {}
  },
  {
   "cell_type": "markdown",
   "source": [
    "### **They Are Different**\r\n",
    "They started to behave differently when tesors are involved. It's not going to be part of the class but it's better to make them clear. "
   ],
   "metadata": {}
  },
  {
   "cell_type": "code",
   "execution_count": 20,
   "source": [
    "A = np.random.rand(2, 4, 2)\r\n",
    "B = np.random.rand(2, 2, 4)\r\n",
    "print((A@B).shape) # happend at the last 2 axis. \r\n",
    "print(np.dot(A, B).shape)  # multiplication happend at the last one axies. "
   ],
   "outputs": [
    {
     "output_type": "stream",
     "name": "stdout",
     "text": [
      "(2, 4, 4)\n",
      "(2, 4, 2, 4)\n"
     ]
    }
   ],
   "metadata": {}
  },
  {
   "cell_type": "markdown",
   "source": [
    "When invoked with `np.array`, the operator `*` is not a matrix vector multiplication: \r\n"
   ],
   "metadata": {}
  },
  {
   "cell_type": "code",
   "execution_count": 24,
   "source": [
    "A = np.random.rand(2,2)\r\n",
    "b = np.ones((2, 1))\r\n",
    "print(A*b)  \r\n",
    "# The output should be a vector but the output is a matrix instead. \r\n"
   ],
   "outputs": [
    {
     "output_type": "stream",
     "name": "stdout",
     "text": [
      "[[0.92795971 0.80686233]\n",
      " [0.13112872 0.35541273]]\n"
     ]
    }
   ],
   "metadata": {}
  },
  {
   "cell_type": "markdown",
   "source": [],
   "metadata": {}
  },
  {
   "cell_type": "code",
   "execution_count": null,
   "source": [],
   "outputs": [],
   "metadata": {}
  },
  {
   "cell_type": "markdown",
   "source": [
    "### **Other Materials from Last Week**\r\n",
    "\r\n",
    "* `np.zeros((m, n))`: Making zeros array\r\n",
    "* `np.empty((m, n))`: Making an array filled with nonsense numbers. \r\n",
    "* `A.reshape()`: chaging the shape the array to another shape but with the same number of elements. "
   ],
   "metadata": {}
  },
  {
   "cell_type": "markdown",
   "source": [],
   "metadata": {}
  }
 ],
 "metadata": {
  "orig_nbformat": 4,
  "language_info": {
   "name": "python",
   "version": "3.7.7",
   "mimetype": "text/x-python",
   "codemirror_mode": {
    "name": "ipython",
    "version": 3
   },
   "pygments_lexer": "ipython3",
   "nbconvert_exporter": "python",
   "file_extension": ".py"
  },
  "kernelspec": {
   "name": "python3",
   "display_name": "Python 3.7.7 64-bit ('ml_optimization': conda)"
  },
  "interpreter": {
   "hash": "215956e4b4668669a8b8858f1727617b59431327e1577833621c6b2dfef7bf8e"
  }
 },
 "nbformat": 4,
 "nbformat_minor": 2
}