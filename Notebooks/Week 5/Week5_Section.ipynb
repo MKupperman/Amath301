{
 "cells": [
  {
   "cell_type": "markdown",
   "metadata": {},
   "source": [
    "### **Anouncement**\n",
    "\n",
    "* Don't panic about the midterm, it's going to be fine as long as you know how all previous 3 homework is solved. \n",
    "* Late homework is accepted on gradescope. "
   ]
  },
  {
   "cell_type": "markdown",
   "metadata": {},
   "source": [
    "### **Matlab**\n",
    "|Function|Description|\n",
    "|----|-----|\n",
    "|[`eig`](https://www.mathworks.com/help/matlab/ref/eig.html), [`eigs`](https://www.mathworks.com/help/matlab/ref/eigs.html)|guarantee the order of eigenvalues/eigenvector pairs.|\n",
    "\n",
    "\n",
    "### **Python**\n",
    "\n",
    "|Functio|Description|\n",
    "|--------------|-------------|\n",
    "|[`np.linalg.eig`](https://numpy.org/doc/stable/reference/generated/numpy.linalg.eig.html)| For large matrices, order is generally respected. For small matrices, this is not gaurenteed. Artifact of the algorithm, not an intentional feature.|\n",
    "|[`np.linalg.eigh`](https://numpy.org/doc/stable/reference/generated/numpy.linalg.eigh.html)|Gaurenteed order, least to greatest (ascending). Good for symmetric matrices! Flip the output to get largest to smallest.|\n",
    "\n",
    "Function in the scipy modules are also good. \n",
    "\n",
    "This is important for the HW, and it will be useful. \n",
    "\n",
    "When in doubt, check documentation.\n",
    "\n"
   ]
  },
  {
   "cell_type": "code",
   "execution_count": 86,
   "metadata": {},
   "outputs": [
    {
     "name": "stdout",
     "output_type": "stream",
     "text": [
      "[5.2791295  0.96826106 0.96826106 0.80369636 0.80369636 0.53806055\n",
      " 0.53806055 0.5083579  0.12282719 0.07397076]\n"
     ]
    }
   ],
   "source": [
    "import numpy as np\n",
    "import scipy.sparse.linalg, scipy.linalg\n",
    "\n",
    "A = np.random.rand(10, 10)\n",
    "w, V = np.linalg.eig(A)\n",
    "print(np.abs(w))\n"
   ]
  },
  {
   "cell_type": "code",
   "execution_count": 87,
   "metadata": {},
   "outputs": [
    {
     "name": "stdout",
     "output_type": "stream",
     "text": [
      "[5.2791295  0.96826106 0.96826106 0.80369636 0.80369636 0.53806055]\n",
      "[5.2791295  0.96826106 0.96826106 0.80369636 0.80369636 0.53806055\n",
      " 0.53806055 0.5083579  0.12282719 0.07397076]\n"
     ]
    }
   ],
   "source": [
    "w, V = scipy.sparse.linalg.eigs(A)\n",
    "print(np.abs(w))\n",
    "w, V = scipy.linalg.eig(A)\n",
    "print(np.abs(w))"
   ]
  },
  {
   "cell_type": "markdown",
   "metadata": {},
   "source": [
    "### **Beyond slice notation - subsets**\n",
    "\n",
    "As on HW3, we wanted a good way to pull out a few columns.\n",
    "Toy example: a 3x3 matrix, get first and third column. \n",
    "\n",
    "**Matlab**\n",
    "\n",
    "```matlab\n",
    "cols_to_extract = [1,3];  % Put these integers into a vector\n",
    "data_matrix = [1,2,3;2,4,6;,3,6,9];  % some simple data\n",
    "first_and_third = data_matrix(:, cols_to_extract)  % all rows, some cols\n",
    "\n",
    "```\n",
    "**Python**\n",
    "\n",
    "See below. \n"
   ]
  },
  {
   "cell_type": "code",
   "execution_count": 88,
   "metadata": {},
   "outputs": [
    {
     "name": "stdout",
     "output_type": "stream",
     "text": [
      "[[1 3]\n",
      " [2 6]\n",
      " [3 9]]\n"
     ]
    }
   ],
   "source": [
    "cols_to_extract = np.array([0,2])                 # Put these indices into an array\n",
    "data_matrix = np.array([[1,2,3],[2,4,6],[3,6,9]])  # some simple data\n",
    "first_and_third = data_matrix[:, cols_to_extract]  # all rows, some cols\n",
    "print(first_and_third)"
   ]
  },
  {
   "cell_type": "markdown",
   "metadata": {},
   "source": [
    "### **Sorting Data using Subset Indexing**\n",
    "\n",
    "Details of how sorting works left for your CS class(es).\n",
    "Use built-in methods for sorting data. \n",
    "Generally: Compute a sort, store the indexes to obtain sort. Then use the indexes to sort other data.\n",
    "\n",
    "### **Matlab**\n",
    "```matlab\n",
    "x = [1,4,2,3];\n",
    "[sorted, index] = sort(x);  % get sorted items and reordering vector\n",
    "new_sorted = x(index);  % can use this to apply the reordering\n",
    "```\n",
    "\n"
   ]
  },
  {
   "cell_type": "code",
   "execution_count": 89,
   "metadata": {},
   "outputs": [
    {
     "name": "stdout",
     "output_type": "stream",
     "text": [
      "[1 2 3 4]\n",
      "[0 2 3 1]\n"
     ]
    }
   ],
   "source": [
    "x = np.asarray([1,4,2,3])\n",
    "index_array = np.argsort(x)\n",
    "sorted = x[index_array]   # sorts along an axis\n",
    "print(sorted)\n",
    "print(index_array)"
   ]
  },
  {
   "cell_type": "markdown",
   "metadata": {},
   "source": [
    "## **Sorting matrices - it's really about index notation**\n",
    "Continue examples from previous slide\n",
    "### **Matlab**\n",
    "```matlab\n",
    "x = [1,4,2,3];\n",
    "y = magic(4);\n",
    "[sorted, index] = sort(x);  % get sorted items and reordering vector\n",
    "new_sorted = x(index)  % can use this to apply the reordering\n",
    "z = y(:, index)  % preserves row order, only reorder columns\n",
    "```"
   ]
  },
  {
   "cell_type": "code",
   "execution_count": 90,
   "metadata": {},
   "outputs": [
    {
     "name": "stdout",
     "output_type": "stream",
     "text": [
      "[0 2 3 1]\n"
     ]
    }
   ],
   "source": [
    "### Python\n",
    "\n",
    "x = np.asarray([1,4,2,3])\n",
    "y = np.arange(16).reshape(4,4)\n",
    "index_array = np.argsort(x)\n",
    "print(index_array)\n",
    "sorted = x[index_array]    # sorts along an axis, row, first axis. \n",
    "z = y[:, index_array]\n",
    "\n"
   ]
  },
  {
   "cell_type": "markdown",
   "metadata": {},
   "source": [
    "## **Debugging**\n",
    "\n",
    "We are going o look at some code and see where are the errors. \n",
    "\n",
    "### **Debugging Example 1: Matrix Operations**\n",
    "\n",
    "Matrix multiplication\n",
    "\n",
    "$$\n",
    "A = \\left[ \\begin{array}{cc} 1 & 2 \\\\ 2 &1\\end{array}\\right],~~\n",
    "B = \\left[ \\begin{array}{cc} -1.001 & 1\\\\ 1 & 1\\end{array}\\right],~~\n",
    "C = \\left[ \\begin{array}{c} -1 & 0\\\\ 0 & -3\\end{array}\\right]\n",
    "$$\n",
    "\n",
    "Compute $AB - BC$.\n",
    "\n",
    "**matlab code:**\n",
    "\n",
    "```matlab\n",
    "A = [1,2;2,1]; \n",
    "B = [-1, 1;1,1]; \n",
    "C = [-1,0;0,-3];\n",
    "result = A*B - B*C;\n",
    "```\n",
    "\n",
    "**Python code** in the cell\n",
    "\n",
    "**Question:** What is the bug here? \n",
    "\n",
    "<details>\n",
    "<summary>Answer</summary>\n",
    "    <par>\n",
    "        The element in the matrix is not copied correctly.\n",
    "    </par>\n",
    "</details>\n"
   ]
  },
  {
   "cell_type": "code",
   "execution_count": 91,
   "metadata": {},
   "outputs": [],
   "source": [
    "A = np.asarray([[1,2],[2,1]]); B=np.asarray([[-1,1],[1,1]])\n",
    "C = np.asarray([[-1,0],[0,3]])\n",
    "result = A@B - B@C"
   ]
  },
  {
   "cell_type": "markdown",
   "metadata": {},
   "source": [
    "**Example 2: More Matrix Opreations**\n",
    "\n",
    "$$\n",
    "A = \\left[ \\begin{array}{cc} 1 & 2 \\\\ 2 &1\\end{array}\\right],~~\n",
    "B = \\left[ \\begin{array}{cc} -1.001 & 1\\\\ 1 & 1\\end{array}\\right],~~\n",
    "c = \\left[ \\begin{array}{c} -1 & 0\\\\ 0 & 3\\end{array}\\right]\n",
    "$$\n",
    "Compute $A^TB - CB$.\n",
    "\n",
    "**Matlab code:**\n",
    "\n",
    "```matlab\n",
    "A = [1,2;2,1]; \n",
    "B = [-1.001, 1;1,1]; \n",
    "C = [-1,0;0,3];\n",
    "result = A.'*B - B*C;\n",
    "```\n",
    "\n",
    "**Python:** code in the cell\n",
    "\n",
    "**Question:** What is the bug here? \n",
    "\n",
    "\n",
    "<details>\n",
    "<summary>answers</summary>\n",
    "<par>\n",
    "    The order of the multiplications shouldn't be swapped. Should be $CB$ instead of $BC$. \n",
    "</par>\n",
    "</details>\n"
   ]
  },
  {
   "cell_type": "code",
   "execution_count": 92,
   "metadata": {},
   "outputs": [],
   "source": [
    "A = np.asarray([[1,2],[2,1]]); B=np.asarray([[-1.001,1],[1,1]])\n",
    "C = np.asarray([[-1,0],[0,3]])\n",
    "result = A.T@B - B@C"
   ]
  },
  {
   "cell_type": "markdown",
   "metadata": {},
   "source": [
    "**Example 3: Matrix Oprations, Python Exclusive**\n",
    "\n",
    "$$\n",
    "A = \\left[ \\begin{array}{cc} 1 & 2 \\\\ 2 &1\\end{array}\\right],~~\n",
    "B = \\left[ \\begin{array}{cc} -1.001 & 1\\\\ 1 & 1\\end{array}\\right],~~\n",
    "c = \\left[ \\begin{array}{c} -1 & 0\\\\ 0 & 3\\end{array}\\right]\n",
    "$$\n",
    "Compute $AB$\n",
    "\n",
    "**Python** code in the cell. \n",
    "\n",
    "**Question**: What is the bug here? \n",
    "\n",
    "<details>\n",
    "    <summary>\n",
    "        Asnwers\n",
    "    </summary>\n",
    "    <par>\n",
    "        It's using python native array instead of using numpy array. \n",
    "    </par>\n",
    "<details>"
   ]
  },
  {
   "cell_type": "code",
   "execution_count": 93,
   "metadata": {},
   "outputs": [
    {
     "ename": "TypeError",
     "evalue": "unsupported operand type(s) for @: 'list' and 'list'",
     "output_type": "error",
     "traceback": [
      "\u001b[1;31m---------------------------------------------------------------------------\u001b[0m",
      "\u001b[1;31mTypeError\u001b[0m                                 Traceback (most recent call last)",
      "\u001b[1;32m~\\AppData\\Local\\Temp/ipykernel_22456/1772957306.py\u001b[0m in \u001b[0;36m<module>\u001b[1;34m\u001b[0m\n\u001b[0;32m      1\u001b[0m \u001b[0mA\u001b[0m \u001b[1;33m=\u001b[0m \u001b[1;33m[\u001b[0m\u001b[1;33m[\u001b[0m\u001b[1;36m1\u001b[0m\u001b[1;33m,\u001b[0m \u001b[1;36m2\u001b[0m\u001b[1;33m]\u001b[0m\u001b[1;33m,\u001b[0m \u001b[1;33m[\u001b[0m\u001b[1;36m2\u001b[0m\u001b[1;33m,\u001b[0m \u001b[1;36m1\u001b[0m\u001b[1;33m]\u001b[0m\u001b[1;33m]\u001b[0m\u001b[1;33m\u001b[0m\u001b[1;33m\u001b[0m\u001b[0m\n\u001b[0;32m      2\u001b[0m \u001b[0mB\u001b[0m \u001b[1;33m=\u001b[0m \u001b[1;33m[\u001b[0m\u001b[1;33m[\u001b[0m\u001b[1;33m-\u001b[0m\u001b[1;36m1.001\u001b[0m\u001b[1;33m,\u001b[0m \u001b[1;36m1\u001b[0m\u001b[1;33m]\u001b[0m\u001b[1;33m,\u001b[0m \u001b[1;33m[\u001b[0m\u001b[1;36m1\u001b[0m\u001b[1;33m,\u001b[0m \u001b[1;36m1\u001b[0m\u001b[1;33m]\u001b[0m\u001b[1;33m]\u001b[0m\u001b[1;33m\u001b[0m\u001b[1;33m\u001b[0m\u001b[0m\n\u001b[1;32m----> 3\u001b[1;33m \u001b[0mA\u001b[0m\u001b[1;33m@\u001b[0m\u001b[0mB\u001b[0m\u001b[1;33m\u001b[0m\u001b[1;33m\u001b[0m\u001b[0m\n\u001b[0m",
      "\u001b[1;31mTypeError\u001b[0m: unsupported operand type(s) for @: 'list' and 'list'"
     ]
    }
   ],
   "source": [
    "A = [[1, 2], [2, 1]]\n",
    "B = [[-1.001, 1], [1, 1]]\n",
    "A@B"
   ]
  },
  {
   "cell_type": "markdown",
   "metadata": {},
   "source": [
    "**Example 4: Matrix Oprations, Python Exclusive**\n",
    "\n",
    "$$\n",
    "A = \\left[ \\begin{array}{cc} 1 & 2 \\\\ 2 &1\\end{array}\\right],~~\n",
    "B = \\left[ \\begin{array}{cc} -1.001 & 1\\\\ 1 & 1\\end{array}\\right],~~\n",
    "c = \\left[ \\begin{array}{c} -1 & 0\\\\ 0 & 3\\end{array}\\right]\n",
    "$$\n",
    "Compute $AB$\n",
    "\n",
    "**Python code in the cell**\n",
    "\n",
    "**Question**: What is the bug here?\n",
    "\n",
    "<details>\n",
    "    <summary>\n",
    "        Answers\n",
    "    </summary>\n",
    "    <par>\n",
    "        In python, for matrix opertaions as in the linear algebra sense, we should be using the `@`  operator instead of the `*` which does elementwise operations.\n",
    "    </par>\n",
    "</details>"
   ]
  },
  {
   "cell_type": "code",
   "execution_count": null,
   "metadata": {},
   "outputs": [
    {
     "data": {
      "text/plain": [
       "array([[-1.001,  2.   ],\n",
       "       [ 2.   ,  1.   ]])"
      ]
     },
     "execution_count": 69,
     "metadata": {},
     "output_type": "execute_result"
    }
   ],
   "source": [
    "A = np.array([[1, 2], [2, 1]])\n",
    "B = np.array([[-1.001, 1], [1, 1]])\n",
    "A*B"
   ]
  },
  {
   "cell_type": "markdown",
   "metadata": {},
   "source": [
    "**Jacobi Iterations**\n",
    "\n",
    "We are going to Jacobi Iteration and this is the system we are trying to solve: \n",
    "\n",
    "$$\n",
    "Ax = b\\quad A = \\begin{bmatrix}\n",
    "5 & 2 \\\\ -1 & 3\n",
    "\\end{bmatrix}\n",
    "\\quad \n",
    "b = \\begin{bmatrix}\n",
    "3 \\\\ 2\n",
    "\\end{bmatrix}\n",
    "$$\n",
    "\n",
    "Firstly, let's compute the correct solutions for the system\n",
    "\n",
    "\n"
   ]
  },
  {
   "cell_type": "code",
   "execution_count": null,
   "metadata": {},
   "outputs": [
    {
     "name": "stdout",
     "output_type": "stream",
     "text": [
      "[[0.29411765]\n",
      " [0.76470588]]\n"
     ]
    }
   ],
   "source": [
    "A = np.array([[5, 2], [-1, 3]])\n",
    "b = np.array([[3], [2]])\n",
    "x = np.linalg.solve(A, b)\n",
    "print(x)"
   ]
  },
  {
   "cell_type": "markdown",
   "metadata": {},
   "source": [
    "### **Example 5: Jacobi Iteration**\n",
    "\n",
    "This is the system we are trying to solve: \n",
    "$$\n",
    "Ax = b\\quad A = \\begin{bmatrix}\n",
    "5 & 2 \\\\ -1 & 3\n",
    "\\end{bmatrix}\n",
    "\\quad \n",
    "b = \\begin{bmatrix}\n",
    "3 \\\\ 2\n",
    "\\end{bmatrix}\n",
    "$$\n",
    "\n",
    "**This is the Matlab code that tries to solve this:**\n",
    "\n",
    "\n",
    "```matlab\n",
    "solution_guess = zeros(1,2)\n",
    "for step=1:5\n",
    "    new_guess = zeros(1,2)\n",
    "    new_guess(1) = (3 - 2 * solution_guess(2)) / 5\n",
    "    new_guess(2) = (2 - (-1) * solution_guess(1)) / 3\n",
    "end\n",
    "A2 = new_guess\n",
    "```\n",
    "\n",
    "And this is the python code that is trying to solve this:\n",
    "\n",
    "**Question**: What is the bug here? \n",
    "\n",
    "<details>\n",
    "<summary>Answer</summary>\n",
    "<par>\n",
    "    There is no update for the solution inside of the forloop.  `solution_guess` should be updated inside of the forloop.\n",
    "</par>\n",
    "</details>\n"
   ]
  },
  {
   "cell_type": "code",
   "execution_count": null,
   "metadata": {},
   "outputs": [
    {
     "name": "stdout",
     "output_type": "stream",
     "text": [
      "[0.6        0.66666667]\n",
      "[[0.29411765]\n",
      " [0.76470588]]\n"
     ]
    }
   ],
   "source": [
    "solution_guess = np.zeros(2)\n",
    "for step in range(5):\n",
    "    new_guess = np.zeros(2)\n",
    "    new_guess[0] = (3 - 2 * solution_guess[1]) / 5\n",
    "    new_guess[1] = (2 - (-1) * solution_guess[0]) / 3\n",
    "A2 = new_guess\n",
    "print(A2)\n",
    "print(x)"
   ]
  },
  {
   "cell_type": "markdown",
   "metadata": {},
   "source": [
    "### **Example 6: Jacobi Iteration**\n",
    "\n",
    "This is the system we are trying to solve: \n",
    "$$\n",
    "Ax = b\\quad A = \\begin{bmatrix}\n",
    "5 & 2 \\\\ -1 & 3\n",
    "\\end{bmatrix}\n",
    "\\quad \n",
    "b = \\begin{bmatrix}\n",
    "3 \\\\ 2\n",
    "\\end{bmatrix}\n",
    "$$\n",
    "\n",
    "**This is the Matlab code that tries to solve this:**\n",
    "\n",
    "```matlab\n",
    "SolutionGuess = zeros(1, 2);\n",
    "for step = 1:5\n",
    "    NewGuess = zeros(1, 2);\n",
    "    NewGuess(1) = (2 - 2*SolutionGuess(2))/5; \n",
    "    NewGuess(2) = (2 - (-1)*SolutionGuess(1))/3\n",
    "    SolutionGuess = NewGuess\n",
    "end\n",
    "A2 = NewGuess\n",
    "```\n",
    "\n",
    "**Python** code in the cell below. \n",
    "\n",
    "**Question**: What is the bug? \n",
    "\n",
    "<details>\n",
    "<summary>\n",
    "    Answers\n",
    "</summary>\n",
    "<par>\n",
    "    There is a type when copying the b vector and transferring it into code. \n",
    "</par>\n",
    "</details>\n",
    "\n",
    "\n"
   ]
  },
  {
   "cell_type": "code",
   "execution_count": null,
   "metadata": {},
   "outputs": [
    {
     "name": "stdout",
     "output_type": "stream",
     "text": [
      "[0.12266667 0.70518519]\n",
      "[[0.29411765]\n",
      " [0.76470588]]\n"
     ]
    }
   ],
   "source": [
    "SolutionGuess = np.zeros(2)\n",
    "for step in range(10): \n",
    "    NewGuess = np.zeros(2)\n",
    "    NewGuess[0] = (2 - 2*SolutionGuess[1])/5\n",
    "    NewGuess[1] = (2 - (-1)*SolutionGuess[0])/3\n",
    "    SolutionGuess = NewGuess\n",
    "A2 = NewGuess\n",
    "print(A2)\n",
    "print(x)"
   ]
  },
  {
   "cell_type": "markdown",
   "metadata": {},
   "source": [
    "### **Example 7: Jacobi Iteration (Python Exclusive)**\n",
    "\n",
    "This is the system we are trying to solve: \n",
    "\n",
    "$$\n",
    "Ax = b\\quad A = \\begin{bmatrix}\n",
    "5 & 2 \\\\ -1 & 3\n",
    "\\end{bmatrix}\n",
    "\\quad \n",
    "b = \\begin{bmatrix}\n",
    "3 \\\\ 2\n",
    "\\end{bmatrix}\n",
    "$$\n",
    "\n",
    "**Python** code is below in the cell: \n",
    "\n",
    "**Question**: What is the bug here? \n",
    "\n",
    "<details>\n",
    "<summary>\n",
    "    Answers\n",
    "</summary>\n",
    "<par>\n",
    "    There is something wrong with the header of the forloop. \n",
    "</par>\n",
    "</details>"
   ]
  },
  {
   "cell_type": "code",
   "execution_count": null,
   "metadata": {},
   "outputs": [],
   "source": [
    "solution_guess = np.zeros(2)\n",
    "for step in (2,8):\n",
    "    new_guess = np.zeros(2)\n",
    "    new_guess[0] = (3 - 2 * solution_guess[1]) / 5\n",
    "    new_guess[1] = (2 - (-1) * solution_guess[0]) / 3\n",
    "    solution_guess = new_guess\n",
    "A2 = new_guess"
   ]
  },
  {
   "cell_type": "markdown",
   "metadata": {},
   "source": [
    "### **Example 8: If Statement and Las Vegas Algorithm. (Matlab Exclusive)**\n",
    "\n",
    "**Objective**\n",
    "\n",
    "We are tasked with generating a random vector (column vector, with 3 element ), Where all the element in the vector is larger than 0.5 using [Las Vegas Algortihm](https://en.wikipedia.org/wiki/Las_Vegas_algorithm). \n",
    "\n",
    "**Matlab Code** \n",
    "\n",
    "```matlab\n",
    "while 1 \n",
    "    x = rand(3, 1); \n",
    "    if x(1) && x(2) && x(3) > 0.5\n",
    "        break;\n",
    "    end\n",
    "end\n",
    "```\n",
    "\n",
    "**Question**: Where is the bug in the code? \n",
    "\n",
    "<details>\n",
    "    <summary>\n",
    "        Answers\n",
    "    </summary>\n",
    "    <par>\n",
    "        We can't write if statememnt like that in the while loop. To make sure all elements are satisfying the condition of less than `0.5`, we need to write: \n",
    "    </par>\n",
    "    \n",
    "    ```matlab\n",
    "        while 1 \n",
    "            x = rand(3, 1);\n",
    "            if x(1) > 0.5 && x(2) > 0.5 && x(3) > 0.5\n",
    "                break;\n",
    "            end\n",
    "        end\n",
    "    ```\n",
    "</details>"
   ]
  },
  {
   "cell_type": "markdown",
   "metadata": {},
   "source": [
    "### **Exercise: PCA and Principal Components Projections**\n",
    "\n",
    "Mathematical Facts: \n",
    "Suppoes the Matrix $X$, has singular value decomposition. (It always has by the way. ) Then: \n",
    "\n",
    "* The eigenvectors of the matrix $XX^T$ *can* have the same vectors  as the vectors in $U$ where $U\\Sigma V^T$ serves as the SVD decomposition of the matrix $X$. (Note, they will be differred by a multiple of -1). \n",
    "* The squared of the Singular Values of the matrix $X$ is the same as the eigen values of the matrix $XX^T$.\n",
    "* The first few (Depends on the shape of the matrix $X$) eigen values of the matrix $XX^T$ and $X^TX$ is the same. (Which links back to the first statement)\n",
    "\n",
    "**Question**: What are the principal components of the data matrix $X$? We assume it's a column data matrix. \n",
    "\n",
    "**Question**: How is the variance of the singular value $\\sigma_j$ computed? \n",
    "\n",
    "<details>\n",
    "    <summary>\n",
    "        Answers\n",
    "    </summary>\n",
    "    \n",
    "In this case, the principal components refers to the columns from the matrix $U$, from the Singular Value Decomposition of the matrix $X$.\n",
    "\n",
    "The Variance is computed as \n",
    "\n",
    "$$\n",
    "\\frac{\\sigma_j}{\\sum_{i = 1}^{n} \\sigma_i}\n",
    "$$\n",
    "\n",
    "Note that the denominators are all the singular values, which are the diagonal of the matrix $\\Sigma$ from the singular value decomposition. \n",
    "    \n",
    "</details>\n",
    "\n",
    "Let's verify some of the statement using code. \n"
   ]
  },
  {
   "cell_type": "code",
   "execution_count": null,
   "metadata": {},
   "outputs": [],
   "source": [
    "X = np.random.rand(1024, 20) # A skinny matrix storing big data, but few of them.\n"
   ]
  },
  {
   "cell_type": "code",
   "execution_count": null,
   "metadata": {},
   "outputs": [],
   "source": []
  },
  {
   "cell_type": "code",
   "execution_count": null,
   "metadata": {},
   "outputs": [],
   "source": []
  },
  {
   "cell_type": "code",
   "execution_count": null,
   "metadata": {},
   "outputs": [],
   "source": []
  }
 ],
 "metadata": {
  "interpreter": {
   "hash": "215956e4b4668669a8b8858f1727617b59431327e1577833621c6b2dfef7bf8e"
  },
  "kernelspec": {
   "display_name": "Python 3.7.7 64-bit ('ml_optimization': conda)",
   "name": "python3"
  },
  "language_info": {
   "codemirror_mode": {
    "name": "ipython",
    "version": 3
   },
   "file_extension": ".py",
   "mimetype": "text/x-python",
   "name": "python",
   "nbconvert_exporter": "python",
   "pygments_lexer": "ipython3",
   "version": "3.7.7"
  },
  "orig_nbformat": 4
 },
 "nbformat": 4,
 "nbformat_minor": 2
}
